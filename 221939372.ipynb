{
  "nbformat": 4,
  "nbformat_minor": 0,
  "metadata": {
    "colab": {
      "name": "221939372.ipynb",
      "private_outputs": true,
      "provenance": [],
      "authorship_tag": "ABX9TyP4uZeRyzhQMK8xGQaweS/9",
      "include_colab_link": true
    },
    "kernelspec": {
      "name": "python3",
      "display_name": "Python 3"
    },
    "language_info": {
      "name": "python"
    }
  },
  "cells": [
    {
      "cell_type": "markdown",
      "metadata": {
        "id": "view-in-github",
        "colab_type": "text"
      },
      "source": [
        "<a href=\"https://colab.research.google.com/github/hsandaver/hsandaver.github.io/blob/main/221939372.ipynb\" target=\"_parent\"><img src=\"https://colab.research.google.com/assets/colab-badge.svg\" alt=\"Open In Colab\"/></a>"
      ]
    },
    {
      "cell_type": "markdown",
      "source": [
        "# Condition report with reflectance, abosorbance and CIELAB Tristimulus Values"
      ],
      "metadata": {
        "id": "Zd8SyghUie07"
      }
    },
    {
      "cell_type": "markdown",
      "source": [
        "[OCLC No. 221939372](https://divinity.on.worldcat.org/oclc/221939372)\n",
        "\n",
        "Newth, Samuel. *Lectures on Bible Revision : With an Appendix Containing the Prefaces to the Historical Editions of the English Bible*. London: Hodder and Stoughton, 1881."
      ],
      "metadata": {
        "id": "I8Q2-FSLijht"
      }
    },
    {
      "cell_type": "markdown",
      "source": [
        "# Reflectance and Absorbance Spectra"
      ],
      "metadata": {
        "id": "0p3PQqDA6pUE"
      }
    },
    {
      "cell_type": "markdown",
      "source": [
        "**Reflectance spectra for binding (for image see 3D Model)**"
      ],
      "metadata": {
        "id": "hzCK8TM2624W"
      }
    },
    {
      "cell_type": "code",
      "source": [
        "import numpy as np\n",
        "from bokeh.plotting import figure, show\n",
        "from bokeh.io import output_notebook\n",
        "\n",
        "# Call once to configure Bokeh to display plots inline in the notebook.\n",
        "output_notebook()\n",
        "\n",
        "# prepare some data\n",
        "x1 = [460]\n",
        "x2 = [550]\n",
        "x3 = [640]\n",
        "y1 = [0.04]\n",
        "y2 = [0.07]\n",
        "y3 = [0.08]\n",
        "\n",
        "# create a new plot with a title and axis labels\n",
        "p = figure(title=\"Reflectance spectra for Lectures on Bible Revision (Binding) 2022-06-09\", \n",
        "           x_axis_label=\"WAVELENGTH, nm\", y_axis_label=\"% REFLECTANCE\", width=800, height=600) \n",
        "\n",
        "# add multiple renderers\n",
        "p.diamond(x=x1, y=y1, size=15, color=\"Blue\", line_width=2)\n",
        "p.diamond(x=x2, y=y2, size=15, color=\"Green\", line_width=2)\n",
        "p.diamond(x=x3, y=y3, size=15, color=\"Red\", line_width=2)\n",
        "\n",
        "# show the results\n",
        "show(p)"
      ],
      "metadata": {
        "id": "fZ4PEEmh660k"
      },
      "execution_count": null,
      "outputs": []
    },
    {
      "cell_type": "markdown",
      "source": [
        "**Absorbance spectra for binding**"
      ],
      "metadata": {
        "id": "rxXTvINW84m8"
      }
    },
    {
      "cell_type": "code",
      "source": [
        "import numpy as np\n",
        "from bokeh.plotting import figure, show\n",
        "from bokeh.io import output_notebook\n",
        "\n",
        "# Call once to configure Bokeh to display plots inline in the notebook.\n",
        "output_notebook()\n",
        "\n",
        "# prepare some data\n",
        "x1 = [460]\n",
        "x2 = [550]\n",
        "x3 = [640]\n",
        "y1 = [0.366]\n",
        "y2 = [0.154]\n",
        "y3 = [0.252]\n",
        "\n",
        "# create a new plot with a title and axis labels\n",
        "p = figure(title=\"Absorbance spectra for History of the Catholic Church in Australasia (Binding) 2022-06-06\", \n",
        "           x_axis_label=\"WAVELENGTH, nm\", y_axis_label=\"ABSORBANCE (% max)\", width=800, height=600)\n",
        "\n",
        "# add multiple renderers\n",
        "p.diamond(x=x1, y=y1, size=15, color=\"Blue\", line_width=2)\n",
        "p.diamond(x=x2, y=y2, size=15, color=\"Green\", line_width=2)\n",
        "p.diamond(x=x3, y=y3, size=15, color=\"Red\", line_width=2)\n",
        "\n",
        "# show the results\n",
        "show(p)"
      ],
      "metadata": {
        "id": "0DkT0AKl86D8"
      },
      "execution_count": null,
      "outputs": []
    }
  ]
}