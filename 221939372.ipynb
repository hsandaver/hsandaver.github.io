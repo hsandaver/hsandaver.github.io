{
  "nbformat": 4,
  "nbformat_minor": 0,
  "metadata": {
    "colab": {
      "name": "221939372.ipynb",
      "private_outputs": true,
      "provenance": [],
      "authorship_tag": "ABX9TyPkvoNc1yPhtZW2ODRYsimf",
      "include_colab_link": true
    },
    "kernelspec": {
      "name": "python3",
      "display_name": "Python 3"
    },
    "language_info": {
      "name": "python"
    }
  },
  "cells": [
    {
      "cell_type": "markdown",
      "metadata": {
        "id": "view-in-github",
        "colab_type": "text"
      },
      "source": [
        "<a href=\"https://colab.research.google.com/github/hsandaver/hsandaver.github.io/blob/main/221939372.ipynb\" target=\"_parent\"><img src=\"https://colab.research.google.com/assets/colab-badge.svg\" alt=\"Open In Colab\"/></a>"
      ]
    },
    {
      "cell_type": "markdown",
      "source": [
        "# Condition report with reflectance, abosorbance and CIELAB Tristimulus Values"
      ],
      "metadata": {
        "id": "Zd8SyghUie07"
      }
    },
    {
      "cell_type": "markdown",
      "source": [
        "[OCLC No. 221939372](https://divinity.on.worldcat.org/oclc/221939372)\n",
        "\n",
        "Newth, Samuel. *Lectures on Bible Revision : With an Appendix Containing the Prefaces to the Historical Editions of the English Bible*. London: Hodder and Stoughton, 1881."
      ],
      "metadata": {
        "id": "I8Q2-FSLijht"
      }
    },
    {
      "cell_type": "markdown",
      "source": [
        "Binding slightly scratced and stained with mild abrasions on the spine and small amount of adhesive residue on spine"
      ],
      "metadata": {
        "id": "E6hsMNm0A34Q"
      }
    },
    {
      "cell_type": "markdown",
      "source": [
        "# Reflectance and Absorbance Spectra"
      ],
      "metadata": {
        "id": "0p3PQqDA6pUE"
      }
    },
    {
      "cell_type": "markdown",
      "source": [
        "**Reflectance spectra for binding**"
      ],
      "metadata": {
        "id": "hzCK8TM2624W"
      }
    },
    {
      "cell_type": "code",
      "source": [
        "import numpy as np\n",
        "from bokeh.plotting import figure, show\n",
        "from bokeh.io import output_notebook\n",
        "\n",
        "# Call once to configure Bokeh to display plots inline in the notebook.\n",
        "output_notebook()\n",
        "\n",
        "# prepare some data\n",
        "x1 = [460]\n",
        "x2 = [550]\n",
        "x3 = [640]\n",
        "y1 = [0.04]\n",
        "y2 = [0.07]\n",
        "y3 = [0.08]\n",
        "\n",
        "# create a new plot with a title and axis labels\n",
        "p = figure(title=\"Reflectance spectra for Lectures on Bible Revision (Binding) 2022-06-09\", \n",
        "           x_axis_label=\"WAVELENGTH, nm\", y_axis_label=\"% REFLECTANCE\", width=800, height=600) \n",
        "\n",
        "# add multiple renderers\n",
        "p.diamond(x=x1, y=y1, size=15, color=\"Blue\", line_width=2)\n",
        "p.diamond(x=x2, y=y2, size=15, color=\"Green\", line_width=2)\n",
        "p.diamond(x=x3, y=y3, size=15, color=\"Red\", line_width=2)\n",
        "\n",
        "# show the results\n",
        "show(p)"
      ],
      "metadata": {
        "id": "fZ4PEEmh660k"
      },
      "execution_count": null,
      "outputs": []
    },
    {
      "cell_type": "markdown",
      "source": [
        "**Absorbance spectra for binding**"
      ],
      "metadata": {
        "id": "rxXTvINW84m8"
      }
    },
    {
      "cell_type": "code",
      "source": [
        "import numpy as np\n",
        "from bokeh.plotting import figure, show\n",
        "from bokeh.io import output_notebook\n",
        "\n",
        "# Call once to configure Bokeh to display plots inline in the notebook.\n",
        "output_notebook()\n",
        "\n",
        "# prepare some data\n",
        "x1 = [460]\n",
        "x2 = [550]\n",
        "x3 = [640]\n",
        "y1 = [0.366]\n",
        "y2 = [0.154]\n",
        "y3 = [0.252]\n",
        "\n",
        "# create a new plot with a title and axis labels\n",
        "p = figure(title=\"Reflectance spectra for Lectures on Bible Revision (Binding) 2022-06-09\", \n",
        "           x_axis_label=\"WAVELENGTH, nm\", y_axis_label=\"ABSORBANCE (% max)\", width=800, height=600)\n",
        "\n",
        "# add multiple renderers\n",
        "p.diamond(x=x1, y=y1, size=15, color=\"Blue\", line_width=2)\n",
        "p.diamond(x=x2, y=y2, size=15, color=\"Green\", line_width=2)\n",
        "p.diamond(x=x3, y=y3, size=15, color=\"Red\", line_width=2)\n",
        "\n",
        "# show the results\n",
        "show(p)"
      ],
      "metadata": {
        "id": "0DkT0AKl86D8"
      },
      "execution_count": null,
      "outputs": []
    },
    {
      "cell_type": "markdown",
      "source": [
        "Delta E of Title page and verso"
      ],
      "metadata": {
        "id": "_pv4wWho2jLl"
      }
    },
    {
      "cell_type": "markdown",
      "source": [
        "![Screen Shot 2022-06-10 at 11.11.15 am.png](data:image/png;base64,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)"
      ],
      "metadata": {
        "id": "L9UF9_OWLY9W"
      }
    },
    {
      "cell_type": "markdown",
      "source": [
        "![Screen Shot 2022-06-10 at 11.16.20 am.png](data:image/png;base64,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)"
      ],
      "metadata": {
        "id": "7SDxLvXhL5Ka"
      }
    },
    {
      "cell_type": "code",
      "source": [
        "from bokeh.io import output_file, show, output_notebook\n",
        "from bokeh.models import ColumnDataSource\n",
        "from bokeh.plotting import figure\n",
        "from bokeh.transform import dodge\n",
        "\n",
        "output_file(\"dodged_bars.html\")\n",
        "\n",
        "fruits = ['Recto', 'Verso']\n",
        "years = ['L', 'a', 'b']\n",
        "\n",
        "data = {'fruits' : fruits,\n",
        "        'L'   : [72.40, 81.34],\n",
        "        'a'   : [3.05, -0.72],\n",
        "        'b'   : [14.91, 3.94]}\n",
        "\n",
        "source = ColumnDataSource(data=data)\n",
        "\n",
        "p = figure(x_range=fruits, y_range=(-10, 127), height=600, title=\"CIE LAB Tristimulus Values for Title page\",\n",
        "           toolbar_location=None, tools=\"\")\n",
        "\n",
        "p.vbar(x=dodge('fruits', -0.25, range=p.x_range), top='L', width=0.2, source=source,\n",
        "       color=\"#c9d9d3\", legend_label=\"L\")\n",
        "\n",
        "p.vbar(x=dodge('fruits',  0.0,  range=p.x_range), top='a', width=0.2, source=source,\n",
        "       color=\"#718dbf\", legend_label=\"a\")\n",
        "\n",
        "p.vbar(x=dodge('fruits',  0.25, range=p.x_range), top='b', width=0.2, source=source,\n",
        "       color=\"#e84d60\", legend_label=\"b\")\n",
        "\n",
        "p.x_range.range_padding = 0.1\n",
        "p.xgrid.grid_line_color = None\n",
        "p.legend.location = \"top_left\"\n",
        "p.legend.orientation = \"horizontal\"\n",
        "\n",
        "show(p)"
      ],
      "metadata": {
        "id": "3FreligzMpqe"
      },
      "execution_count": null,
      "outputs": []
    }
  ]
}