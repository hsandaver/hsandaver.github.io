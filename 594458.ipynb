{
  "nbformat": 4,
  "nbformat_minor": 0,
  "metadata": {
    "colab": {
      "name": "594458.ipynb",
      "private_outputs": true,
      "provenance": [],
      "authorship_tag": "ABX9TyNKqaUzRaPVlcQL/IK8dd9v",
      "include_colab_link": true
    },
    "kernelspec": {
      "name": "python3",
      "display_name": "Python 3"
    },
    "language_info": {
      "name": "python"
    }
  },
  "cells": [
    {
      "cell_type": "markdown",
      "metadata": {
        "id": "view-in-github",
        "colab_type": "text"
      },
      "source": [
        "<a href=\"https://colab.research.google.com/github/hsandaver/hsandaver.github.io/blob/main/594458.ipynb\" target=\"_parent\"><img src=\"https://colab.research.google.com/assets/colab-badge.svg\" alt=\"Open In Colab\"/></a>"
      ]
    },
    {
      "cell_type": "markdown",
      "source": [
        "# Condition report with reflectance, abosorbance and CIELAB Tristimulus Values"
      ],
      "metadata": {
        "id": "Dez5IvtWyYFo"
      }
    },
    {
      "cell_type": "markdown",
      "source": [
        "[OCLC No. 594458](https://divinity.on.worldcat.org/oclc/594458)"
      ],
      "metadata": {
        "id": "ERBkAxqe6REn"
      }
    },
    {
      "cell_type": "markdown",
      "source": [
        "Husslein, Joseph. *Democratic Industry: A Practical Study in Social History*. New York: P.J. Kenedy & Sons, 1919."
      ],
      "metadata": {
        "id": "QcvsAQqZ7IvF"
      }
    },
    {
      "cell_type": "markdown",
      "source": [
        "# Reflectance and Absorbance Spectra"
      ],
      "metadata": {
        "id": "iwBCYzH27rtE"
      }
    },
    {
      "cell_type": "code",
      "source": [
        "import numpy as np\n",
        "from bokeh.plotting import figure, show\n",
        "from bokeh.io import output_notebook\n",
        "\n",
        "# Call once to configure Bokeh to display plots inline in the notebook.\n",
        "output_notebook()\n",
        "\n",
        "# prepare some data\n",
        "x1 = [460]\n",
        "x2 = [550]\n",
        "x3 = [640]\n",
        "y1 = [0.06]\n",
        "y2 = [0.04]\n",
        "y3 = [0.04]\n",
        "\n",
        "# create a new plot with a title and axis labels\n",
        "p = figure(title=\"Reflectance spectra for  Democratic Industry: A Practical Study in Social History (Binding) 2022-06-23\", \n",
        "           x_axis_label=\"WAVELENGTH, nm\", y_axis_label=\"% REFLECTANCE\", width=800, height=600) \n",
        "\n",
        "# add multiple renderers\n",
        "p.diamond(x=x1, y=y1, size=15, color=\"Blue\", line_width=2)\n",
        "p.diamond(x=x2, y=y2, size=15, color=\"Green\", line_width=2)\n",
        "p.diamond(x=x3, y=y3, size=15, color=\"Red\", line_width=2)\n",
        "\n",
        "# show the results\n",
        "show(p)"
      ],
      "metadata": {
        "id": "_59H2zP47xP8"
      },
      "execution_count": null,
      "outputs": []
    },
    {
      "cell_type": "markdown",
      "source": [
        "# Delta E of Title page and verso"
      ],
      "metadata": {
        "id": "UGkMlAbXyJ1h"
      }
    },
    {
      "cell_type": "markdown",
      "source": [
        "![Screen Shot 2022-06-24 at 11.12.11 am.png](data:image/png;base64,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)"
      ],
      "metadata": {
        "id": "jL1sr_ecyRQL"
      }
    },
    {
      "cell_type": "markdown",
      "source": [
        "![Screen Shot 2022-06-24 at 11.12.49 am.png](data:image/png;base64,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)"
      ],
      "metadata": {
        "id": "o15-DQy1RVXD"
      }
    },
    {
      "cell_type": "code",
      "source": [
        "from bokeh.io import output_file, show, output_notebook\n",
        "from bokeh.models import ColumnDataSource\n",
        "from bokeh.plotting import figure\n",
        "from bokeh.transform import dodge\n",
        "\n",
        "output_file(\"dodged_bars.html\")\n",
        "\n",
        "fruits = ['Recto', 'Verso']\n",
        "years = ['L', 'a', 'b']\n",
        "\n",
        "data = {'fruits' : fruits,\n",
        "        'L'   : [89.93, 84.09],\n",
        "        'a'   : [-0.32, 0.49],\n",
        "        'b'   : [4.91, 7.11]}\n",
        "\n",
        "source = ColumnDataSource(data=data)\n",
        "\n",
        "p = figure(x_range=fruits, y_range=(-10, 127), height=600, title=\"CIE LAB Tristimulus Values for Title page\",\n",
        "           toolbar_location=None, tools=\"\")\n",
        "\n",
        "p.vbar(x=dodge('fruits', -0.25, range=p.x_range), top='L', width=0.2, source=source,\n",
        "       color=\"#c9d9d3\", legend_label=\"L\")\n",
        "\n",
        "p.vbar(x=dodge('fruits',  0.0,  range=p.x_range), top='a', width=0.2, source=source,\n",
        "       color=\"#718dbf\", legend_label=\"a\")\n",
        "\n",
        "p.vbar(x=dodge('fruits',  0.25, range=p.x_range), top='b', width=0.2, source=source,\n",
        "       color=\"#e84d60\", legend_label=\"b\")\n",
        "\n",
        "p.x_range.range_padding = 0.1\n",
        "p.xgrid.grid_line_color = None\n",
        "p.legend.location = \"top_left\"\n",
        "p.legend.orientation = \"horizontal\"\n",
        "\n",
        "show(p)"
      ],
      "metadata": {
        "id": "4QxDd7AARa2A"
      },
      "execution_count": null,
      "outputs": []
    }
  ]
}