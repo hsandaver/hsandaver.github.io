{
  "nbformat": 4,
  "nbformat_minor": 0,
  "metadata": {
    "colab": {
      "name": "921003228.ipynb",
      "private_outputs": true,
      "provenance": [],
      "authorship_tag": "ABX9TyO3dEgCm+KoGtLqCGo6JZ9I",
      "include_colab_link": true
    },
    "kernelspec": {
      "name": "python3",
      "display_name": "Python 3"
    },
    "language_info": {
      "name": "python"
    }
  },
  "cells": [
    {
      "cell_type": "markdown",
      "metadata": {
        "id": "view-in-github",
        "colab_type": "text"
      },
      "source": [
        "<a href=\"https://colab.research.google.com/github/hsandaver/hsandaver.github.io/blob/main/921003228.ipynb\" target=\"_parent\"><img src=\"https://colab.research.google.com/assets/colab-badge.svg\" alt=\"Open In Colab\"/></a>"
      ]
    },
    {
      "cell_type": "markdown",
      "source": [
        "# Condition report with reflectance, abosorbance and CIELAB Tristimulus Values"
      ],
      "metadata": {
        "id": "9Uh8HTOUk6vh"
      }
    },
    {
      "cell_type": "markdown",
      "source": [
        "[OCLC No. 921003228](https://divinity.on.worldcat.org/oclc/921003228)"
      ],
      "metadata": {
        "id": "gx4_r1IglLkg"
      }
    },
    {
      "cell_type": "markdown",
      "source": [
        "Gregory, Lady. *Seven Short Plays*. Dublin: Maunsel and Company, 1909."
      ],
      "metadata": {
        "id": "szdDRVL8ltS7"
      }
    },
    {
      "cell_type": "markdown",
      "source": [
        "# Reflectance and Absorbance Spectra"
      ],
      "metadata": {
        "id": "4bIFWCy6mbEE"
      }
    },
    {
      "cell_type": "code",
      "source": [
        "import numpy as np\n",
        "from bokeh.plotting import figure, show\n",
        "from bokeh.io import output_notebook\n",
        "\n",
        "# Call once to configure Bokeh to display plots inline in the notebook.\n",
        "output_notebook()\n",
        "\n",
        "# prepare some data\n",
        "x1 = [460]\n",
        "x2 = [550]\n",
        "x3 = [640]\n",
        "y1 = [0.19]\n",
        "y2 = [0.16]\n",
        "y3 = [0.10]\n",
        "\n",
        "# create a new plot with a title and axis labels\n",
        "p = figure(title=\"Reflectance spectra for  Seven short plays (Binding) 2022-06-29\", \n",
        "           x_axis_label=\"WAVELENGTH, nm\", y_axis_label=\"% REFLECTANCE\", width=800, height=600) \n",
        "\n",
        "# add multiple renderers\n",
        "p.diamond(x=x1, y=y1, size=15, color=\"Blue\", line_width=2)\n",
        "p.diamond(x=x2, y=y2, size=15, color=\"Green\", line_width=2)\n",
        "p.diamond(x=x3, y=y3, size=15, color=\"Red\", line_width=2)\n",
        "\n",
        "# show the results\n",
        "show(p)"
      ],
      "metadata": {
        "id": "EnLwX-Vqme1y"
      },
      "execution_count": null,
      "outputs": []
    },
    {
      "cell_type": "markdown",
      "source": [
        "![Screen Shot 2022-06-28 at 4.43.08 pm.png](data:image/png;base64,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)"
      ],
      "metadata": {
        "id": "2bvOXxR4DMNl"
      }
    },
    {
      "cell_type": "code",
      "execution_count": null,
      "metadata": {
        "id": "aQCKY1cOCFkZ"
      },
      "outputs": [],
      "source": [
        "## Calculate the euclidean distance between CIELab values of Title page and Verso.\n",
        "\n",
        "## A result less than two is considered perceptually equivalent. \n",
        "## Since the title page is the most exposed page usually in book, this test is a \n",
        "## quick and dirty test to see if greater aging occured on the title page [recto] compared to the \n",
        "## verso of the same page.\n",
        "\n",
        "import math\n",
        "\n",
        "L1 = 95.74\n",
        "a1 = -0.42\n",
        "b1 = -0.73\n",
        "\n",
        "L2 = 97.58\n",
        "a2 = 0.00\n",
        "b2 = 0.00\n",
        "\n",
        "DeltaE = math.sqrt((L2-L1) ** 2 + (a2-a1) ** 2 + (b2-b1) ** 2)\n",
        "\n",
        "DeltaE"
      ]
    }
  ]
}