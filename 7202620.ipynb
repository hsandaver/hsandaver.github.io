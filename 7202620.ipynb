{
  "nbformat": 4,
  "nbformat_minor": 0,
  "metadata": {
    "colab": {
      "name": "7202620.ipynb",
      "private_outputs": true,
      "provenance": [],
      "authorship_tag": "ABX9TyNG3fnAYvh6jBD2RHwelVGo",
      "include_colab_link": true
    },
    "kernelspec": {
      "name": "python3",
      "display_name": "Python 3"
    },
    "language_info": {
      "name": "python"
    }
  },
  "cells": [
    {
      "cell_type": "markdown",
      "metadata": {
        "id": "view-in-github",
        "colab_type": "text"
      },
      "source": [
        "<a href=\"https://colab.research.google.com/github/hsandaver/hsandaver.github.io/blob/main/7202620.ipynb\" target=\"_parent\"><img src=\"https://colab.research.google.com/assets/colab-badge.svg\" alt=\"Open In Colab\"/></a>"
      ]
    },
    {
      "cell_type": "markdown",
      "source": [
        "# Condition report with reflectance, abosorbance and CIELAB Tristimulus Values"
      ],
      "metadata": {
        "id": "7pkJ3Yl1U4qu"
      }
    },
    {
      "cell_type": "markdown",
      "source": [
        "[OCLC No. 7202620](https:https://divinity.on.worldcat.org/oclc/7202620/)"
      ],
      "metadata": {
        "id": "ecF7Btx8pb06"
      }
    },
    {
      "cell_type": "markdown",
      "source": [
        "Orsi, Pietro. *Modern Italy, 1748-1898*. Translated by Mary Alice Vialls. The Story of the Nations. London: T. Fisher Unwin, 1899."
      ],
      "metadata": {
        "id": "K2yE7N1nxLjS"
      }
    },
    {
      "cell_type": "markdown",
      "source": [
        "# Reflectance and Absorbance Spectra"
      ],
      "metadata": {
        "id": "CubSTOi7xmZu"
      }
    },
    {
      "cell_type": "markdown",
      "source": [
        "**Reflectance spectra for binding**"
      ],
      "metadata": {
        "id": "-CZ_MPsB0GJI"
      }
    },
    {
      "cell_type": "code",
      "execution_count": null,
      "metadata": {
        "id": "ROhCRpj1U3t3"
      },
      "outputs": [],
      "source": [
        "import numpy as np\n",
        "from bokeh.plotting import figure, show\n",
        "from bokeh.io import output_notebook\n",
        "\n",
        "# Call once to configure Bokeh to display plots inline in the notebook.\n",
        "output_notebook()\n",
        "\n",
        "# prepare some data\n",
        "x1 = [460]\n",
        "x2 = [550]\n",
        "x3 = [640]\n",
        "y1 = [0.04]\n",
        "y2 = [0.08]\n",
        "y3 = [0.08]\n",
        "\n",
        "# create a new plot with a title and axis labels\n",
        "p = figure(title=\"Reflectance spectra for Modern Italy (Binding) 2022-06-020\", \n",
        "           x_axis_label=\"WAVELENGTH, nm\", y_axis_label=\"% REFLECTANCE\", width=800, height=600) \n",
        "\n",
        "# add multiple renderers\n",
        "p.diamond(x=x1, y=y1, size=15, color=\"Blue\", line_width=2)\n",
        "p.diamond(x=x2, y=y2, size=15, color=\"Green\", line_width=2)\n",
        "p.diamond(x=x3, y=y3, size=15, color=\"Red\", line_width=2)\n",
        "\n",
        "# show the results\n",
        "show(p)"
      ]
    },
    {
      "cell_type": "markdown",
      "source": [
        "# Delta E of Title page and verso"
      ],
      "metadata": {
        "id": "epRjH_PZ0wD-"
      }
    },
    {
      "cell_type": "markdown",
      "source": [
        "![Screen Shot 2022-06-20 at 4.48.39 pm.png](data:image/png;base64,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)"
      ],
      "metadata": {
        "id": "GWoiGGbC31j7"
      }
    },
    {
      "cell_type": "markdown",
      "source": [
        "1.9301 = L:93.49,A:-0.54,B:7.04 -> L:93.87,A:-1.43,B:5.37"
      ],
      "metadata": {
        "id": "aGnGvg8V35bs"
      }
    },
    {
      "cell_type": "code",
      "source": [
        "from bokeh.io import output_file, show, output_notebook\n",
        "from bokeh.models import ColumnDataSource\n",
        "from bokeh.plotting import figure\n",
        "from bokeh.transform import dodge\n",
        "\n",
        "output_file(\"dodged_bars.html\")\n",
        "\n",
        "fruits = ['Recto', 'Verso']\n",
        "years = ['L', 'a', 'b']\n",
        "\n",
        "data = {'fruits' : fruits,\n",
        "        'L'   : [93.49, 93.87],\n",
        "        'a'   : [-0.54, -1.43],\n",
        "        'b'   : [7.04, 5.37]}\n",
        "\n",
        "source = ColumnDataSource(data=data)\n",
        "\n",
        "p = figure(x_range=fruits, y_range=(-10, 127), height=600, title=\"CIE LAB Tristimulus Values for Title page\",\n",
        "           toolbar_location=None, tools=\"\")\n",
        "\n",
        "p.vbar(x=dodge('fruits', -0.25, range=p.x_range), top='L', width=0.2, source=source,\n",
        "       color=\"#c9d9d3\", legend_label=\"L\")\n",
        "\n",
        "p.vbar(x=dodge('fruits',  0.0,  range=p.x_range), top='a', width=0.2, source=source,\n",
        "       color=\"#718dbf\", legend_label=\"a\")\n",
        "\n",
        "p.vbar(x=dodge('fruits',  0.25, range=p.x_range), top='b', width=0.2, source=source,\n",
        "       color=\"#e84d60\", legend_label=\"b\")\n",
        "\n",
        "p.x_range.range_padding = 0.1\n",
        "p.xgrid.grid_line_color = None\n",
        "p.legend.location = \"top_left\"\n",
        "p.legend.orientation = \"horizontal\"\n",
        "\n",
        "show(p)"
      ],
      "metadata": {
        "id": "VJSYSDqAW5sG"
      },
      "execution_count": null,
      "outputs": []
    }
  ]
}