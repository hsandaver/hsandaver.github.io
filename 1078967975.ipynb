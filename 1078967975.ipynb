{
  "nbformat": 4,
  "nbformat_minor": 0,
  "metadata": {
    "colab": {
      "name": "1078967975.ipynb",
      "private_outputs": true,
      "provenance": [],
      "authorship_tag": "ABX9TyOxxMh/K1erSvO3etRx9wZZ",
      "include_colab_link": true
    },
    "kernelspec": {
      "name": "python3",
      "display_name": "Python 3"
    },
    "language_info": {
      "name": "python"
    }
  },
  "cells": [
    {
      "cell_type": "markdown",
      "metadata": {
        "id": "view-in-github",
        "colab_type": "text"
      },
      "source": [
        "<a href=\"https://colab.research.google.com/github/hsandaver/hsandaver.github.io/blob/main/1078967975.ipynb\" target=\"_parent\"><img src=\"https://colab.research.google.com/assets/colab-badge.svg\" alt=\"Open In Colab\"/></a>"
      ]
    },
    {
      "cell_type": "markdown",
      "source": [
        "# Condition report with reflectance, abosorbance and CIELAB Tristimulus Values"
      ],
      "metadata": {
        "id": "GHnal4Ug5hdg"
      }
    },
    {
      "cell_type": "markdown",
      "source": [
        "[OCLC No. 1078967975](https://divinity.on.worldcat.org/oclc/1078967975)"
      ],
      "metadata": {
        "id": "S9onAvIc5k1p"
      }
    },
    {
      "cell_type": "markdown",
      "source": [
        "Catholic Church. Congregatio pro Causis Sanctorum. B*eatificationis Et Canonizationis Servae Dei Mariae Potter Fundatricic Parvae Societas Mariae : Positio Super Causae Introductione*. Roma: Typografia Guerra e Belli, 1972."
      ],
      "metadata": {
        "id": "x0BbOIwR6rcm"
      }
    },
    {
      "cell_type": "markdown",
      "source": [
        "# Reflectance and Absorbance Spectra"
      ],
      "metadata": {
        "id": "by3SIAP67zWF"
      }
    },
    {
      "cell_type": "code",
      "source": [
        "import numpy as np\n",
        "from bokeh.plotting import figure, show\n",
        "from bokeh.io import output_notebook\n",
        "\n",
        "# Call once to configure Bokeh to display plots inline in the notebook.\n",
        "output_notebook()\n",
        "\n",
        "# prepare some data\n",
        "x1 = [460]\n",
        "x2 = [550]\n",
        "x3 = [640]\n",
        "y1 = [0.03]\n",
        "y2 = [0.03]\n",
        "y3 = [0.16]\n",
        "\n",
        "# create a new plot with a title and axis labels\n",
        "p = figure(title=\"Reflectance spectra for  Beatificationis Et Canonizationis Servae Dei Mariae Potter... (Binding) 2022-06-29\", \n",
        "           x_axis_label=\"WAVELENGTH, nm\", y_axis_label=\"% REFLECTANCE\", width=800, height=600) \n",
        "\n",
        "# add multiple renderers\n",
        "p.diamond(x=x1, y=y1, size=15, color=\"Blue\", line_width=2)\n",
        "p.diamond(x=x2, y=y2, size=15, color=\"Green\", line_width=2)\n",
        "p.diamond(x=x3, y=y3, size=15, color=\"Red\", line_width=2)\n",
        "\n",
        "# show the results\n",
        "show(p)"
      ],
      "metadata": {
        "id": "5J--ETAu9VC8"
      },
      "execution_count": null,
      "outputs": []
    },
    {
      "cell_type": "markdown",
      "source": [
        "![Screen Shot 2022-06-29 at 4.00.09 pm.png](data:image/png;base64,iVBORw0KGgoAAAANSUhEUgAAAcoAAABOCAYAAACgylamAAAK2GlDQ1BJQ0MgUHJvZmlsZQAASImVlwdUU2kWgO976SGhJVQpoTfpHaTXANK7qIQkQCgxJhTBrgyOYEVFBMuIjoooODoCMhbEgm0QLNgVZFBQ1sFRREVlH7CEmdmzu2dvzp/75eb+t/zn/efcB0AP4YhEWag8QLYwRxwZ4M2KT0hkkV4AAVSBAvagy+FKRF7h4SGAyZT+q3zoAmRc3zYfj/Xv//9XUeTxJVwAJAnjFJ6Em41xC7becEXiHADcMcyul58jGuc7GDPFWIEY949z2iR/GeeUCcbLT/hER/pgrA9ApnE44jQAmhVmZ+Vx07A4tHCMrYQ8gRDjFRi7c9M5PIyxvDAzO3vBOA9ibIz5iwDoTIydUv4UM+0v8VOk8TmcNClP9jUhZF+BRJTFKfg/j+Z/S3ZW7lQOQ2zR0sWBkZhWxs7vfuaCYCkLU0LDpljAm/Cf4PTcwJgp5kp8EqeYx/ENlu7NCg2Z4lSBP1saJ4cdPcV8iV/UFIsXREpzpYp9vKaYI57Om5sZI7Wn89nS+IXp0XFTnCeIDZ1iSWZU8LSPj9Quzo2U1s8XBnhP5/WX9p4t+VO/ArZ0b056dKC0d850/Xyh13RMSby0Nh7f12/aJ0bqL8rxluYSZYVL/flZAVK7JC9KujcHezin94ZLzzCDExQ+xeALfhCCfVgQA3ZgCzZgBREAOfxFOePN+CwQFYgFaek5LC/sxvFZbCHXYibLxsrGBmD8/k4+Eu+fTdxLJP/ptG1eHoBlF2asmrZlfQM4Owwg1zttM0sBULADOF/HzRXnTdrw418EoIIcMEENtEAPjMEcq80BXMETqzgIwiAaEmAecCEdskEM+bAEVkIxlMIm2AaVsAf2wSE4CsehEU7DebgM16ED7sIj6IY+eA1D8AFGEQQhIXSEgagh2ogBYobYIE6IO+KHhCCRSAKSjKQhQiQXWYKsRkqRMqQS2YvUID8hp5DzyFWkE3mA9CADyB/IZxSH0lAmqokaopaoE+qFBqPR6Fw0DV2IFqJF6Aa0Aq1Gj6AN6Hn0OnoX7UZfo8M4wMnglHE6OHOcE84HF4ZLxKXixLhluBJcOa4aV4drxrXhbuO6cYO4T3ginoFn4c3xrvhAfAyei1+IX4Zfh6/EH8I34C/ib+N78EP4bwQ6QYNgRnAhsAnxhDRCPqGYUE44QDhJuES4S+gjfCASicpEI6IjMZCYQMwgLiauI+4i1hNbiJ3EXuIwiURSI5mR3EhhJA4ph1RM2kE6QjpHukXqI30ky5C1yTZkf3IiWUheRS4nHyafJd8ivySPUuQpBhQXShiFRymgbKTspzRTblL6KKNUBaoR1Y0aTc2grqRWUOuol6iPqe9kZGR0ZZxlImQEMitkKmSOyVyR6ZH5RFOkmdJ8aEm0XNoG2kFaC+0B7R2dTjeke9IT6Tn0DfQa+gX6U/pHWYashSxblie7XLZKtkH2luwbOYqcgZyX3Dy5QrlyuRNyN+UG5SnyhvI+8hz5ZfJV8qfk78kPKzAUrBXCFLIV1ikcVriq0K9IUjRU9FPkKRYp7lO8oNjLwDH0GD4MLmM1Yz/jEqOPSWQaMdnMDGYp8yiznTmkpKhkpxSrtEipSumMUrcyTtlQma2cpbxR+bhyl/JnFU0VLxW+ylqVOpVbKiOqM1Q9VfmqJar1qndVP6ux1PzUMtU2qzWqPVHHq5uqR6jnq+9Wv6Q+OIM5w3UGd0bJjOMzHmqgGqYakRqLNfZp3NAY1tTSDNAUae7QvKA5qKWs5amVobVV66zWgDZD211boL1V+5z2K5YSy4uVxapgXWQN6WjoBOrk6uzVadcZ1TXSjdFdpVuv+0SPquekl6q3Va9Vb0hfW3+2/hL9Wv2HBhQDJ4N0g+0GbQYjhkaGcYZrDBsN+41UjdhGhUa1Ro+N6cYexguNq43vmBBNnEwyTXaZdJiipvam6aZVpjfNUDMHM4HZLrPOmYSZzjOFM6tn3jOnmXuZ55nXmvdYKFuEWKyyaLR4Y6lvmWi52bLN8puVvVWW1X6rR9aK1kHWq6ybrf+wMbXh2lTZ3LGl2/rbLrdtsn1rZ2bHt9ttd9+eYT/bfo19q/1XB0cHsUOdw4CjvmOy407He05Mp3CndU5XnAnO3s7LnU87f3JxcMlxOe7yu6u5a6brYdf+WUaz+LP2z+p103XjuO1163ZnuSe7/+De7aHjwfGo9njuqefJ8zzg+dLLxCvD64jXG28rb7H3Se8RHxefpT4tvjjfAN8S33Y/Rb8Yv0q/p/66/mn+tf5DAfYBiwNaAgmBwYGbA++xNdlcdg17KMgxaGnQxWBacFRwZfDzENMQcUjzbHR20Owtsx+HGoQKQxvDIIwdtiXsSbhR+MLwXyKIEeERVREvIq0jl0S2RTGi5kcdjvoQ7R29MfpRjHFMbkxrrFxsUmxN7Eicb1xZXHe8ZfzS+OsJ6gmChKZEUmJs4oHE4Tl+c7bN6UuyTypO6pprNHfR3Kvz1OdlzTszX24+Z/6JZEJyXPLh5C+cME41ZziFnbIzZYjrw93Ofc3z5G3lDfDd+GX8l6luqWWp/WluaVvSBtI90svTBwU+gkrB24zAjD0ZI5lhmQczx7LisuqzydnJ2aeEisJM4cUFWgsWLegUmYmKRd0LXRZuWzgkDhYfkCCSuZKmHCY2KN3INc79Lrcnzz2vKu9jfmz+iUUKi4SLbhSYFqwteFnoX/jjYvxi7uLWJTpLVi7pWeq1dO8yZFnKstblesuLlvetCFhxaCV1ZebKX1dZrSpb9X513OrmIs2iFUW93wV8V1ssWywuvrfGdc2e7/HfC75vX2u7dsfabyW8kmulVqXlpV/WcdddW2+9vmL92IbUDe0bHTbu3kTcJNzUtdlj86EyhbLCst4ts7c0bGVtLdn6ftv8bVfL7cr3bKduz93eXRFS0bRDf8emHV8q0yvvVnlX1e/U2Ll258gu3q5buz131+3R3FO65/MPgh/u7w3Y21BtWF2+j7gvb9+L/bH72350+rHmgPqB0gNfDwoPdh+KPHSxxrGm5rDG4Y21aG1u7cCRpCMdR32PNtWZ1+2tV64vPQbHco+9+in5p67jwcdbTzidqPvZ4OedJxknSxqQhoKGocb0xu6mhKbOU0GnWptdm0/+YvHLwdM6p6vOKJ3ZeJZ6tujs2LnCc8MtopbB82nne1vntz66EH/hzsWIi+2Xgi9duex/+UKbV9u5K25XTl91uXrqmtO1xusO1xtu2N84+av9ryfbHdobbjrebOpw7mjunNV59pbHrfO3fW9fvsO+c/1u6N3Orpiu+/eS7nXf593vf5D14O3DvIejj1Y8JjwueSL/pPypxtPqZybP6rsdus/0+PbceB71/FEvt/f1b5LfvvQVvaC/KH+p/bKm36b/9ID/QMerOa/6Xotejw4W/0PhHzvfGL/5+XfP328MxQ/1vRW/Hftj3Tu1dwff271vHQ4ffvoh+8PoSMlHtY+HPjl9avsc9/nlaP4X0peKryZfm78Ff3s8lj02JuKIOROjAA5baGoqwB8Hsfk4AYDRAUCdMzlfTwgy+U4wQfCfeHIGnxAHgP0rAMZHr1BM724BMPIEkMVWAPY7qAVQW1vp+pdIUm1tJmOpXwKQKRgb61fB9rwD+NowNjZye2xstAaARAZY/2xyrh8X+SPYm0yHvbVjyOP+ePi7TM78f+rx7xqkFfxF/xPMsBzIQkz33QAAAFZlWElmTU0AKgAAAAgAAYdpAAQAAAABAAAAGgAAAAAAA5KGAAcAAAASAAAARKACAAQAAAABAAAByqADAAQAAAABAAAATgAAAABBU0NJSQAAAFNjcmVlbnNob3R8mdk9AAAB1WlUWHRYTUw6Y29tLmFkb2JlLnhtcAAAAAAAPHg6eG1wbWV0YSB4bWxuczp4PSJhZG9iZTpuczptZXRhLyIgeDp4bXB0az0iWE1QIENvcmUgNi4wLjAiPgogICA8cmRmOlJERiB4bWxuczpyZGY9Imh0dHA6Ly93d3cudzMub3JnLzE5OTkvMDIvMjItcmRmLXN5bnRheC1ucyMiPgogICAgICA8cmRmOkRlc2NyaXB0aW9uIHJkZjphYm91dD0iIgogICAgICAgICAgICB4bWxuczpleGlmPSJodHRwOi8vbnMuYWRvYmUuY29tL2V4aWYvMS4wLyI+CiAgICAgICAgIDxleGlmOlBpeGVsWURpbWVuc2lvbj43ODwvZXhpZjpQaXhlbFlEaW1lbnNpb24+CiAgICAgICAgIDxleGlmOlBpeGVsWERpbWVuc2lvbj40NTg8L2V4aWY6UGl4ZWxYRGltZW5zaW9uPgogICAgICAgICA8ZXhpZjpVc2VyQ29tbWVudD5TY3JlZW5zaG90PC9leGlmOlVzZXJDb21tZW50PgogICAgICA8L3JkZjpEZXNjcmlwdGlvbj4KICAgPC9yZGY6UkRGPgo8L3g6eG1wbWV0YT4KO1T2NgAAEKFJREFUeAHtnQesFUUXxw+IvSsq2CsQARV7sIDdWGIXxV5iRNHEHjXR2Au2KEhsRI09auwagfgsD7uo8Ayg2BXsvaLy8Rsz99t73+7cy+Nu8/1P8t69d2d29uxvd+fMnDkz22X2HDGJCIiACIiACIhALIGusVu1UQREQAREQAREwBGQodSNIAIiIAIiIAIBAjKUAThKEgEREAEREAEZSt0DIiACIiACIhAgIEMZgKMkERABERABEZCh1D0gAiIgAiIgAgECMpQBOEoSAREQAREQARlK3QMiIAIiIAIiECAgQxmAoyQREAEREAERkKHUPSACIiACIiACAQIylAE4ShIBERABERABGUrdAyIgAiIgAiIQICBDGYCjJBEQAREQARGQodQ9IAIiIAIiIAIBAjKUAThKEgEREAEREAEZSt0DIiACIiACIhAgIEMZgKMkERABERABEZCh1D0gAiIgAiIgAgEC3QJpTU+aMWOGtbS02Pvvv29//fVX08vvSIHdunWzNddc0wYPHmw9e/bsSBHaRwREICcC1CnPPvusTZ8+vVB1ylprrWWDBg1SnZLTfdHsw3aZPUeaXWhcedzQY8aMsYFbbGG9+vS2+eefPy5b5ttmzZpl06ZMtQmtrXbkkUfqxs78CuiAItAxAr5OoZHbt29fW2CBBTpWUJP3+vPPP62trc11ClSnNBluTsVlZijvvvtu6zGnx9a3f7+cTjV82LZJk23mHGN+4IEHhjMqVQREoBAE7rnnHltllVVswIABhdCnVomJEyfaJ598YgcccEBtkn6XjEBmY5S4W+lJFlXQDR0lIiAC5SCAu5WeZFEF3dBRUn4CmRlKxiSL4m6Nu2zoVpRx0zj9tE0ERKCaAM9rUdyt1Zr9+wvdVKfEkSnftswMZfnQSGMREAEREAERMJOh1F0gAiIgAiIgAgECMpQBOEoSAREQAREQARlK3QMiIAIiIAIiECAgQxmAoyQREAEREAERyHRlnv8CbiYTf/DBBzZ16lT76KOPrHv37m4u1yabbGILLrhgu1NkUvS3335ryyyzTGUxg6+++sq+/PLLdnnjNvTu3dtYPaie+DIXX3xxW3XVVetld+m//PKLffjhh9anTx+bb775GtqnNhM83n33XVt00UVt9dVXr03WbxEQgQYI8CzyHFGv8CyvuOKKtsYaa9gGG2xgXbp0qSrBP3NsjD671Ec///xzVd64H0TjrrPOOnFJ7bb5Mlm1jDqsEaFu++GHHxo+RlyZ3333nX3++ee2/PLL23LLLReXJdNt9WvgTNUp9sGeeeYZO/fcc+3XX39tpyg30bHHHmt77713VdpNN91kjzzyiB100EF20kknubSnn37arr766qp8ST+eeuopZ4yT0v12X+Zmm21mo0aN8puDnzyYRx99tI0bN86WWmqpYN6kRBoNhx12mK277rp2++23J2XTdhEQgRgCf//9t91yyy124403xqT+awhPPvlk23DDDSvpGFKeOWT8+PG25JJLuu/UKS+88IL7HvpHQ/rBBx8MZamk+TKHDx9uhx9+eGV76Mtjjz1m1Fv33XdfKFswjfpsxIgR7pgcO2+RoWzwClxzzTV2xx13uNwYBXqQK6+8srH6Rsuc9WvpNV588cXOiB588MENlbrIIovYlltumZi3a9euRp5my0MPPeRaqUsvvbQrmhbg448/7s6H9SklIiAC6RP48ccf7YwzzrBXX33VHYy6YL311rPFFlvMJkyY4IzelClT7JhjjnHGdP31129IKdauXnvttRPzrrTSSolp85Jw3XXXuR6wnztKQxyDucceezTs5ZqX46e5rwxlA3RppXkjOWzYMLcmrHeH7LXXXkar8Prrr7fbbrvNMKgDBw50C63XK7p///7OuNbL1+x0ViC66667KsUOHTrUGWR6lxIREIFsCNx6660VI3nttde6esMfef/99zfcsfQmX3/9dTvttNPsySefbGiIZJdddmm49+ePN6+fv//+u73zzjuuDvRlsRworlM6FY0OB/l9i/apYJ46VwQjyE2MYFCOOuqodmMGjO/hHvB+f9whRRYevieeeKKiIjczro5DDz20so0v//zzj1uC66WXXnKtWxZ6hkdIeGAmT55s7EMvWyICItCeALELfqjiyiuvrDKSPjfj/pdccon7ybOE96qostBCC9no0aOrhpR23nln56nafPPNq9T+/vvv7e2337bnnnvOXnnlFTcmW5Uh5gf70PN+8803Y4e+YnZp6ib1KOvgfOONNyprwIZcqvQwTznlFHvrrbdK0Xq64YYb3JmfffbZdtFFF9n9999v0fPjBr700kvt448/riKEK/iqq66yjTfeuGo7RpXxWF+uTyTYgHJwU0tEQAT+JfDoo4+6L7hJt9pqq0QsxD4QF8HwSFywYOKOOSTQSMb9yjltt912rj4YMmSI4TlDCEK67LLL7OGHH26nHUb1nHPOabck4U8//eTqVV6lFhXyn3XWWakMTUWP47/LUHoSCZ9EfSG4D+h5hQTjUWtAQvnzTFt44YXtzDPPNFzHtFYxdF4I0DnuuOPcTwwdgQRE0+L6wXDSI2VcljFUL4yl8Mf4Bw8+PU961myjJ87bY9IaG/E66FMEykLAv4CBCj/6HMXpv/vuu8dtLty2P/74w3r06OHqDrxr7733nv32228VPb2RpLFNL5O65bPPPnOGk7FMxmdxOUflgQcecD8xthtttJFrMOANIz8R+wx3dTRiP3qcet9lKOsQ8j0qXufTbJk0aZJz5SaVu9tuuzlDlpQ+L9tPPfXUyu64k6OCSwThZsc95B9kInd5sIn65fVBq622WnQ3I+L2iiuuMIwwwnguLmnGLm6++WbXMq7aQT9EoJMS8IYyjcYj0abPP/98Ilkaumm8dYXoWz9MxcGJWvVCb9L3JM877zzbZpttfJLzNhGpz5BNraEkE+/09A13fh9yyCGu3qQRjsHcdddd2ZyqyFDWwevnO9KjarZgcHDVJsmmm26alJTqdt7OzlQXDJ83khww2uuMthS9MhhfbyTZtsQSS7gghCOOOMJwNZ1++ulV6X4/fYpAZyMwc+ZMd8qMQzZbqLN8vRVXNkFCWcusWbNcw5m3NCVF1sfpheuZqN+o0IAn8BCjzDQXGcoonZy+40pAvvjii6ZrQLg344NJ4h8ijBIh1nEycuRI69WrV1xSh7cRps4fDxtzR3mnHn+tra2JA+m0jJkgXSu4THC10ChgAjFGWCICnZ0AzwvTJ5gT2WxhjuV+++2XWKyfFjZmzBjj5de1glv0/PPPr908T7+py/Bc0bMkKHDatGku9gOvGh6nJKHnGbfgCjMLMJQwzELUo6xD2btcG3kBK0YFdwMGo5FJ/0SKeUMcUoN5SUkRpNx4zRZWxbjgggtcVJovG2OH0ePGTlpwweet/eTBZJ9vvvlGhrIWjn53SgKsYkUl72MgQhAwCLgY99xzz3a9q7j98H41Uq/Qg4urV4gwTUMYW2T6XPSYTBvx9UrcMb1Rr03DW4VQrxBERF2apshQ1qHre0nc1LSEQr791157zfXCcFk2U7jxKTsrIcqOCc+4OE444QTr16+fc6NyfKaQxLUAGZSPk9mzZxuGF1l22WXjsmibCHQ6AnhWxo4d61yHDHOEKnoC5/DuNHs8k2ebvyyEBjZRrQiu1B122MHNDiAQh6lkSavvJLmQvTGnAR9i16xz+3/YYrNK/I+VM2DAABedxWkx/SFpHiFjDvfee687eyJkyyr0UDGSCG5hXBy+9ca5E2kWJ7QS4wwoc798D5T1KyUiIAJWCdLj2Yhzf3pGeKl8QCHrvpZV/OpDGEgMJR0QH62a1MjmXFlekx5jrfhgJRrzWYgMZR3KzI/0rR1W6GG9VpaeigruEx9FyoXbfvvto8ml+u6Xn0LpaMAO23Ene6PH4HytsIQf7lUv9CR95BtjrNFAH59HnyLQGQngXfHR5sQZMFm/thFOgxXvDsKYY7N7lFlyZ+oIEq1T+E30r597HVenUN9cfvnlFq2XaJAzLQTZZ5993Gfa/+R6bYAwg9ssIUWlz8277bbbukXAMYqffvqpW2KKYnADXHjhhe0mzSYd4uWXX7att946Kdltv/POO93bSYKZIon1ytxpp52MRQaShHNgLVtuRqZ3YPS5Sb1bmXRuXsYaWKcyKoRrMy+THjXRbbAiL/v4SiGaX99FoDMTIBoc1yIR4SyMzh/DNszXZqiH5wlhAv+JJ57YMCoML4E6ScIbjxpdFN2XUa9M6sfQfE88cwidDeoCAhCpO1988cXKogHUFywOXxvlykslcM8yR52GOHUcQjAk9VkWIkPZIGVWmMCAYCCY0oEhiboauUnoeSaNw0Ujt6JTLnwPLUmN2lZmUr5Gy6xt0cWVR8+QliznyU2K8PAyRxLXLCtikEYksF+EATb77ruvyxNdRYPoWQxzEV6VE3eu2iYCeRFgbI3nDCPCuq+4WL0R8DpRp7BgB6/G8uJdlvz2a07zPbo9VK98/fXXZG9IGi2zXj1FZwNjT2ASdQd/yI477uga3DQaOH9czVFDybkjrE3tl92k4U1gE2yi+rmMKf3rMifYYnZKZVcVyyTTYcOPr9pWtB+jR46quDpCutHDYqyOd65hGBl7i97IoX3LlMYDxdjjCiusUHmVD/oT0s6DERdZx1xLWoowIqIt2kAo07lL1+IToE6hJ1NkwQvl3af19MS4sSoWjVGeLZ67aAO43v5lSMcF6+eQsqylN3TUJ9SpuJfjgnPYj3qFNOrbaAMhi/NWj7IDlKn8Q6+x6UCRhdwFFw1/tRLqHfJgl/1NAbXnq98ikAUBekqhqPosdEj7GKxXW7uiF8fEYIbmWLNfKD1tvRXMkzZhlS8CIiACIlBqAjKUpb58Ul4EREAERCBtAjKUaRNW+SIgAiIgAqUmIENZ6ssn5UVABERABNImIEOZNmGVLwIiIAIiUGoCMpSlvnxSXgREQAREIG0CMpRpE1b5IiACIiACpSYgQ1nqyyflRUAEREAE0iYgQ5k2YZUvAiIgAiJQagIylKW+fFJeBERABEQgbQKZGUqWfYt7jUraJ9ho+eimdUkbpaV8IpA/AZ5X1kUtqqCb6pSiXp250yszQ8mrYqZNmTp32mWYG93QUSICIlAOAqz92dbWVlhl0S3P9UkLC6aEimVmKAcPHmwTWlutbdLkQvUs6UmiE7qho0QERKAcBAYNGmQtLS02ceLEQvUs6UmiE7qho6T8BDJ7zRaoZsyY4W4e3modfWN1nhhxjdCTxEj27NkzT1V0bBEQgbkkQJ3C+0+nT59eqDqFniRGUnXKXF7QgmbP1FAWlIHUEgEREAEREIFEApm5XhM1UIIIiIAIiIAIFJiADGWBL45UEwEREAERyJ+ADGX+10AaiIAIiIAIFJiADGWBL45UEwEREAERyJ+ADGX+10AaiIAIiIAIFJiADGWBL45UEwEREAERyJ+ADGX+10AaiIAIiIAIFJiADGWBL45UEwEREAERyJ+ADGX+10AaiIAIiIAIFJiADGWBL45UEwEREAERyJ+ADGX+10AaiIAIiIAIFJiADGWBL45UEwEREAERyJ+ADGX+10AaiIAIiIAIFJiADGWBL45UEwEREAERyJ+ADGX+10AaiIAIiIAIFJiADGWBL45UEwEREAERyJ/A/wD7HcbfXwjN0QAAAABJRU5ErkJggg==)"
      ],
      "metadata": {
        "id": "3Pkv7bIkDFzE"
      }
    },
    {
      "cell_type": "code",
      "source": [
        "## Calculate the euclidean distance between CIELab values of Title page and Verso.\n",
        "\n",
        "## A result less than two is considered perceptually equivalent. \n",
        "## Since the title page is the most exposed page usually in book, this test is a \n",
        "## quick and dirty test to see if greater aging occured on the title page [recto] compared to the \n",
        "## verso of the same page.\n",
        "\n",
        "import math\n",
        "\n",
        "L1 = 93.18\n",
        "a1 = -1.05\n",
        "b1 = 0.19\n",
        "\n",
        "L2 = 96.54\n",
        "a2 = -0.00\n",
        "b2 = 0.00\n",
        "\n",
        "DeltaE = math.sqrt((L2-L1) ** 2 + (a2-a1) ** 2 + (b2-b1) ** 2)\n",
        "\n",
        "DeltaE"
      ],
      "metadata": {
        "id": "L8cuzuOZCEiL"
      },
      "execution_count": null,
      "outputs": []
    }
  ]
}