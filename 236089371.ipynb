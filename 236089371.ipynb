{
  "nbformat": 4,
  "nbformat_minor": 0,
  "metadata": {
    "colab": {
      "name": "236089371.ipynb",
      "private_outputs": true,
      "provenance": [],
      "authorship_tag": "ABX9TyMBKJWcKpWSMAeg+JhDLclT",
      "include_colab_link": true
    },
    "kernelspec": {
      "name": "python3",
      "display_name": "Python 3"
    },
    "language_info": {
      "name": "python"
    }
  },
  "cells": [
    {
      "cell_type": "markdown",
      "metadata": {
        "id": "view-in-github",
        "colab_type": "text"
      },
      "source": [
        "<a href=\"https://colab.research.google.com/github/hsandaver/hsandaver.github.io/blob/main/236089371.ipynb\" target=\"_parent\"><img src=\"https://colab.research.google.com/assets/colab-badge.svg\" alt=\"Open In Colab\"/></a>"
      ]
    },
    {
      "cell_type": "markdown",
      "source": [
        "# Condition report with reflectance, abosorbance and CIELAB Tristimulus Values"
      ],
      "metadata": {
        "id": "t6C0L0RJlff0"
      }
    },
    {
      "cell_type": "markdown",
      "source": [
        "[OCLC No. 236089371](https://divinity.on.worldcat.org/oclc/236089371)"
      ],
      "metadata": {
        "id": "jWDYRU_2tW6f"
      }
    },
    {
      "cell_type": "markdown",
      "source": [
        "Conybeare, William John and J. S Howson. *The Life and Epistles of St. Paul.* [A] New edition [of the Library edition]. London: Longmans, Green, 1872."
      ],
      "metadata": {
        "id": "fzF4ZXsQuexD"
      }
    },
    {
      "cell_type": "markdown",
      "source": [
        "# Reflectance and Absorbance Spectra"
      ],
      "metadata": {
        "id": "zJkYCEISvNx8"
      }
    },
    {
      "cell_type": "code",
      "source": [
        "import numpy as np\n",
        "from bokeh.plotting import figure, show\n",
        "from bokeh.io import output_notebook\n",
        "\n",
        "# Call once to configure Bokeh to display plots inline in the notebook.\n",
        "output_notebook()\n",
        "\n",
        "# prepare some data\n",
        "x1 = [460]\n",
        "x2 = [550]\n",
        "x3 = [640]\n",
        "y1 = [0.05]\n",
        "y2 = [0.04]\n",
        "y3 = [0.10]\n",
        "\n",
        "# create a new plot with a title and axis labels\n",
        "p = figure(title=\"Reflectance spectra for  Directory for masses with children (Binding) 2022-06-27\", \n",
        "           x_axis_label=\"WAVELENGTH, nm\", y_axis_label=\"% REFLECTANCE\", width=800, height=600) \n",
        "\n",
        "# add multiple renderers\n",
        "p.diamond(x=x1, y=y1, size=15, color=\"Blue\", line_width=2)\n",
        "p.diamond(x=x2, y=y2, size=15, color=\"Green\", line_width=2)\n",
        "p.diamond(x=x3, y=y3, size=15, color=\"Red\", line_width=2)\n",
        "\n",
        "# show the results\n",
        "show(p)"
      ],
      "metadata": {
        "id": "s1Q46sIsvX6G"
      },
      "execution_count": null,
      "outputs": []
    },
    {
      "cell_type": "markdown",
      "source": [
        "![Screen Shot 2022-06-28 at 10.20.13 am.png](data:image/png;base64,iVBORw0KGgoAAAANSUhEUgAAAdoAAABTCAYAAAA4LMYLAAAK2GlDQ1BJQ0MgUHJvZmlsZQAASImVlwdUU2kWgO976SGhJVQpoTfpHaTXANK7qIQkQCgxJhTBrgyOYEVFBMuIjoooODoCMhbEgm0QLNgVZFBQ1sFRREVlH7CEmdmzu2dvzp/75eb+t/zn/efcB0AP4YhEWag8QLYwRxwZ4M2KT0hkkV4AAVSBAvagy+FKRF7h4SGAyZT+q3zoAmRc3zYfj/Xv//9XUeTxJVwAJAnjFJ6Em41xC7becEXiHADcMcyul58jGuc7GDPFWIEY949z2iR/GeeUCcbLT/hER/pgrA9ApnE44jQAmhVmZ+Vx07A4tHCMrYQ8gRDjFRi7c9M5PIyxvDAzO3vBOA9ibIz5iwDoTIydUv4UM+0v8VOk8TmcNClP9jUhZF+BRJTFKfg/j+Z/S3ZW7lQOQ2zR0sWBkZhWxs7vfuaCYCkLU0LDpljAm/Cf4PTcwJgp5kp8EqeYx/ENlu7NCg2Z4lSBP1saJ4cdPcV8iV/UFIsXREpzpYp9vKaYI57Om5sZI7Wn89nS+IXp0XFTnCeIDZ1iSWZU8LSPj9Quzo2U1s8XBnhP5/WX9p4t+VO/ArZ0b056dKC0d850/Xyh13RMSby0Nh7f12/aJ0bqL8rxluYSZYVL/flZAVK7JC9KujcHezin94ZLzzCDExQ+xeALfhCCfVgQA3ZgCzZgBREAOfxFOePN+CwQFYgFaek5LC/sxvFZbCHXYibLxsrGBmD8/k4+Eu+fTdxLJP/ptG1eHoBlF2asmrZlfQM4Owwg1zttM0sBULADOF/HzRXnTdrw418EoIIcMEENtEAPjMEcq80BXMETqzgIwiAaEmAecCEdskEM+bAEVkIxlMIm2AaVsAf2wSE4CsehEU7DebgM16ED7sIj6IY+eA1D8AFGEQQhIXSEgagh2ogBYobYIE6IO+KHhCCRSAKSjKQhQiQXWYKsRkqRMqQS2YvUID8hp5DzyFWkE3mA9CADyB/IZxSH0lAmqokaopaoE+qFBqPR6Fw0DV2IFqJF6Aa0Aq1Gj6AN6Hn0OnoX7UZfo8M4wMnglHE6OHOcE84HF4ZLxKXixLhluBJcOa4aV4drxrXhbuO6cYO4T3ginoFn4c3xrvhAfAyei1+IX4Zfh6/EH8I34C/ib+N78EP4bwQ6QYNgRnAhsAnxhDRCPqGYUE44QDhJuES4S+gjfCASicpEI6IjMZCYQMwgLiauI+4i1hNbiJ3EXuIwiURSI5mR3EhhJA4ph1RM2kE6QjpHukXqI30ky5C1yTZkf3IiWUheRS4nHyafJd8ivySPUuQpBhQXShiFRymgbKTspzRTblL6KKNUBaoR1Y0aTc2grqRWUOuol6iPqe9kZGR0ZZxlImQEMitkKmSOyVyR6ZH5RFOkmdJ8aEm0XNoG2kFaC+0B7R2dTjeke9IT6Tn0DfQa+gX6U/pHWYashSxblie7XLZKtkH2luwbOYqcgZyX3Dy5QrlyuRNyN+UG5SnyhvI+8hz5ZfJV8qfk78kPKzAUrBXCFLIV1ikcVriq0K9IUjRU9FPkKRYp7lO8oNjLwDH0GD4MLmM1Yz/jEqOPSWQaMdnMDGYp8yiznTmkpKhkpxSrtEipSumMUrcyTtlQma2cpbxR+bhyl/JnFU0VLxW+ylqVOpVbKiOqM1Q9VfmqJar1qndVP6ux1PzUMtU2qzWqPVHHq5uqR6jnq+9Wv6Q+OIM5w3UGd0bJjOMzHmqgGqYakRqLNfZp3NAY1tTSDNAUae7QvKA5qKWs5amVobVV66zWgDZD211boL1V+5z2K5YSy4uVxapgXWQN6WjoBOrk6uzVadcZ1TXSjdFdpVuv+0SPquekl6q3Va9Vb0hfW3+2/hL9Wv2HBhQDJ4N0g+0GbQYjhkaGcYZrDBsN+41UjdhGhUa1Ro+N6cYexguNq43vmBBNnEwyTXaZdJiipvam6aZVpjfNUDMHM4HZLrPOmYSZzjOFM6tn3jOnmXuZ55nXmvdYKFuEWKyyaLR4Y6lvmWi52bLN8puVvVWW1X6rR9aK1kHWq6ybrf+wMbXh2lTZ3LGl2/rbLrdtsn1rZ2bHt9ttd9+eYT/bfo19q/1XB0cHsUOdw4CjvmOy407He05Mp3CndU5XnAnO3s7LnU87f3JxcMlxOe7yu6u5a6brYdf+WUaz+LP2z+p103XjuO1163ZnuSe7/+De7aHjwfGo9njuqefJ8zzg+dLLxCvD64jXG28rb7H3Se8RHxefpT4tvjjfAN8S33Y/Rb8Yv0q/p/66/mn+tf5DAfYBiwNaAgmBwYGbA++xNdlcdg17KMgxaGnQxWBacFRwZfDzENMQcUjzbHR20Owtsx+HGoQKQxvDIIwdtiXsSbhR+MLwXyKIEeERVREvIq0jl0S2RTGi5kcdjvoQ7R29MfpRjHFMbkxrrFxsUmxN7Eicb1xZXHe8ZfzS+OsJ6gmChKZEUmJs4oHE4Tl+c7bN6UuyTypO6pprNHfR3Kvz1OdlzTszX24+Z/6JZEJyXPLh5C+cME41ZziFnbIzZYjrw93Ofc3z5G3lDfDd+GX8l6luqWWp/WluaVvSBtI90svTBwU+gkrB24zAjD0ZI5lhmQczx7LisuqzydnJ2aeEisJM4cUFWgsWLegUmYmKRd0LXRZuWzgkDhYfkCCSuZKmHCY2KN3INc79Lrcnzz2vKu9jfmz+iUUKi4SLbhSYFqwteFnoX/jjYvxi7uLWJTpLVi7pWeq1dO8yZFnKstblesuLlvetCFhxaCV1ZebKX1dZrSpb9X513OrmIs2iFUW93wV8V1ssWywuvrfGdc2e7/HfC75vX2u7dsfabyW8kmulVqXlpV/WcdddW2+9vmL92IbUDe0bHTbu3kTcJNzUtdlj86EyhbLCst4ts7c0bGVtLdn6ftv8bVfL7cr3bKduz93eXRFS0bRDf8emHV8q0yvvVnlX1e/U2Ll258gu3q5buz131+3R3FO65/MPgh/u7w3Y21BtWF2+j7gvb9+L/bH72350+rHmgPqB0gNfDwoPdh+KPHSxxrGm5rDG4Y21aG1u7cCRpCMdR32PNtWZ1+2tV64vPQbHco+9+in5p67jwcdbTzidqPvZ4OedJxknSxqQhoKGocb0xu6mhKbOU0GnWptdm0/+YvHLwdM6p6vOKJ3ZeJZ6tujs2LnCc8MtopbB82nne1vntz66EH/hzsWIi+2Xgi9duex/+UKbV9u5K25XTl91uXrqmtO1xusO1xtu2N84+av9ryfbHdobbjrebOpw7mjunNV59pbHrfO3fW9fvsO+c/1u6N3Orpiu+/eS7nXf593vf5D14O3DvIejj1Y8JjwueSL/pPypxtPqZybP6rsdus/0+PbceB71/FEvt/f1b5LfvvQVvaC/KH+p/bKm36b/9ID/QMerOa/6Xotejw4W/0PhHzvfGL/5+XfP328MxQ/1vRW/Hftj3Tu1dwff271vHQ4ffvoh+8PoSMlHtY+HPjl9avsc9/nlaP4X0peKryZfm78Ff3s8lj02JuKIOROjAA5baGoqwB8Hsfk4AYDRAUCdMzlfTwgy+U4wQfCfeHIGnxAHgP0rAMZHr1BM724BMPIEkMVWAPY7qAVQW1vp+pdIUm1tJmOpXwKQKRgb61fB9rwD+NowNjZye2xstAaARAZY/2xyrh8X+SPYm0yHvbVjyOP+ePi7TM78f+rx7xqkFfxF/xPMsBzIQkz33QAAAFZlWElmTU0AKgAAAAgAAYdpAAQAAAABAAAAGgAAAAAAA5KGAAcAAAASAAAARKACAAQAAAABAAAB2qADAAQAAAABAAAAUwAAAABBU0NJSQAAAFNjcmVlbnNob3SphxNbAAAB1WlUWHRYTUw6Y29tLmFkb2JlLnhtcAAAAAAAPHg6eG1wbWV0YSB4bWxuczp4PSJhZG9iZTpuczptZXRhLyIgeDp4bXB0az0iWE1QIENvcmUgNi4wLjAiPgogICA8cmRmOlJERiB4bWxuczpyZGY9Imh0dHA6Ly93d3cudzMub3JnLzE5OTkvMDIvMjItcmRmLXN5bnRheC1ucyMiPgogICAgICA8cmRmOkRlc2NyaXB0aW9uIHJkZjphYm91dD0iIgogICAgICAgICAgICB4bWxuczpleGlmPSJodHRwOi8vbnMuYWRvYmUuY29tL2V4aWYvMS4wLyI+CiAgICAgICAgIDxleGlmOlBpeGVsWURpbWVuc2lvbj44MzwvZXhpZjpQaXhlbFlEaW1lbnNpb24+CiAgICAgICAgIDxleGlmOlBpeGVsWERpbWVuc2lvbj40NzQ8L2V4aWY6UGl4ZWxYRGltZW5zaW9uPgogICAgICAgICA8ZXhpZjpVc2VyQ29tbWVudD5TY3JlZW5zaG90PC9leGlmOlVzZXJDb21tZW50PgogICAgICA8L3JkZjpEZXNjcmlwdGlvbj4KICAgPC9yZGY6UkRGPgo8L3g6eG1wbWV0YT4K2ILDYAAAET9JREFUeAHtnQmMFEUXxx+4eN83CgLiQUQEvOOnLAIe8Yj3gTdqjBo0wYuIicYDFEUxihovPKKCRo23RkFZFG8ERAweXIKu932yKt/+itTYM9s9O8tu71TP/l8CO9NVXf36V9P1ql69qm63rF5MIgIiIAIiIAIikAqB9qmUqkJFQAREQAREQAQcARla/RBEQAREQAREIEUCMrQpwlXRIiACIiACIiBDq9+ACIiACIiACKRIQIY2RbgqWgREQAREQARkaPUbEAEREAEREIEUCcjQpghXRYuACIiACIiADK1+AyIgAiIgAiKQIgEZ2hThqmgREAEREAERkKHVb0AEREAEREAEUiQgQ5siXBUtAiIgAiIgAjK0+g2IgAiIgAiIQIoEZGhThKuiRUAEREAERECGVr8BERABERABEUiRgAxtinBVtAiIgAiIgAjI0Oo3IAIiIAIiIAIpEpChTRGuihYBERABERABGVr9BkRABERABEQgRQIytCnCVdEiIAIiIAIiUFUuBLW1tTZlSo3Nnz/f/v67rlxq5F23qqqDbbnllta/f7V17NgxL01fREAEwiZAm1JTU2Pz5s2rb1P+DkLZqqoq6969u1VXq00JokLKpES7ZfXS2tfmgRg//h77X79q67Hddtahw8qtrULs9erqltrcDz+0aVNr7NRTh8jYxlLSQREIj8DyNmW8DRg4yHr26mUrrxxGm7J06VKbM3u2vTx5Un2bcqralPB+Oq2iUVkM7YQJE61jp87Wq3efVrnJpl5k9qyZVrtksQ0efGxTT1V+ERCBMhCYOHGidenazfrutFMZrt74JWdMn26LFi6wY49Vm9I4rcrLUZY5WtzFjGRDFXRDR4kIiEA2COAuZiQbqqAbOkraJoGyGFrmZENxF8dVO7qFMm8cp5+OiYAI5BNgTjYUd3G+Zsu/oVso88Zx+ulYugTKYmjTvSWVLgIiIAIiIALhEJChDacupIkIiIAIiEAFEpChrcBK1S2JgAiIgAiEQ0CGNpy6kCYiIAIiIAIVSECGtgIrVbckAiIgAiIQDoGy7QwVDoIV14TF6AsWLLCPPvrIFi1aZBtuuKF17tzZdtllF1tllVUaFMyi+u+//97WX3/93ML1b775xr7++usGeeMObLvttsZOM42JL3OttdayLbbYorHsLv23336zhQsXWo8ePWyllVYq6ZzCTPD45JNPbI011rCuXbsWJuu7CIhACQR4FnmOaFd4ljfbbDPr1q2b9enTx9q1a5dXgn/mOBh9dmmPfv3117y8cV+Iht56663jkhoc82Wyax5tWClC2/bTTz+VfI24Mn/44Qf74osvbOONN7aNNtooLkvwxxpvtYO/hfIo+Morr9hll11mv//+ewMF+BGeeeaZdvjhh+el3XnnnfbUU0/Z8ccfb8OGDXNpL774oo0dOzYvX9KXF154wRnzpHR/3Je522672S233OIPF/3Lg3366afbpEmTbN111y2aNymRTsfJJ59s29WvQ77//vuTsum4CIhADIF//vnH7r77brvjjjtiUpcb0vPOO8923HHHXDqGmGcOmTx5sq2zzjruM23Ka6+95j4X+4+O+OOPP14sSy7Nlzl06FA75ZRTcseLfXjmmWeMduuRRx4plq1oGu3Zdddd567JtbMoMrQrUGs33nijPfDAA+5MjAoj2E6dOtmMGTPq92+e4kato0aNckb4hBNOKOkKq6++uu25556Jedu3b2/kaWl54oknXC95vfXWc0XTA3322Wfd/bA/q0QERCB9Aj///LMNHz7c3nnnHXcx2oIddtjB1lxzTXv99ded0Zw7d66dccYZzhj37t27JKXYu32rrbZKzLv55psnpjUn4eabb3YjcL92mI48BveQQw4p2cvWnOuHdq4MbRNrhF6iN7JnnXWW27/Uu3MOO+wwo1d666232n333WcY5D322MO9qKCxy/Sq3zkG49zawg5YDz30UO6yxx13nDPojG4lIiACrUPg3nvvzRnZm266ybUb/spHH3204U5mNDu9fivHCy+80J5//vmSpngOOOCAkkef/nrN/fvnn3/ah/V7xtMGehk8eLBz/TIoKXU6y59bCX8VDNWEWsSI8hAgGKTTTjutwZwJ85u4N/y8B+6ckIWH97nnnsupyDwIrpqTTjopd4wP//77r9tC7s0333S96zlz5rhORV6mgi88cB988IFxDnPTEhEQgYYEiN3wUy3XX399npH1uYl7uPrqq91XniW8Z6HKqquuarfddlvelNj+++/vPGW77757nto//vijvf/++zZ16lR7++233Zx0XoaYL5zDyH/mzJmxU3cxp5T9kEa0TaiC9957L7cHcjGXMCPc888/32bNmpWJ3tvtt9/uKFxyySU2cuRIe/TRRy16fzwA11xzjX322Wd5tHBl33DDDbbzzjvnHccoMx/ty/WJBGtQDm52iQiIwHICTz/9tPuAm3evvfZKxELsB3EhTO/EBVsmnliGBDrZuI+5p4EDB7r24JhjjjE8dwhBXKNHj7Ynn3yygXYY5UsvvbTBlpq//PKLa1d5FWJUyD9ixIhUptai12nOZxnaJtAj6g7B/cHIr5hgfAoNULH85UxbbbXV7OKLLzZc3/SWMZReCHA6++yz3VcMJYEYRDPjusLwMiJmXpo5ZC/MJfGP+R8aDjwBjOw5hidgwoQJLs3n118RaMsE/AtMMBjR5yiOycEHHxx3OLhjf/31l2266aau7cC79+mnn9off/yR09MbWTrrjHJpWz7//HNneJnLZX4al3lUHnvsMfcVY71T/Vua6HDgjSM/KyZwVa/oionoddL4LEPbBKp+RMcSnpaW2fXvrMQVnSQHHXSQM4RJ6c05fsEFF+ROL9QBlw7Cw4J7yzcERE7TMBB1vXjxYuvSpUuuDD4Q8TxmzBjDiCPMZ+NSZ+7mrrvucj1zl6D/RKCNE/CGNo3AJKJ9X3311UTCdJR79uyZmL6iCUQ/+2k2yiBq2AujWT+Svfzyy23vvff2Sc7bxUoJppwKDS2ZeKev7/jz/cQTT3TtJp14DO6BBx7I4eBEhrYJVUIPCmFE19KCwcLVnCS77rprUlKqx7t37+6WKmE4vZHlgtFRb7Sn6pXBeHsjy7G1117bBXEMGTLEcJVddNFFeen+PP0VgbZG4Msvv3S3zDxsSwttlm+34somyKq1pa6uznW8O3ToYEkrG+L0wnVO1HVUGAAQuIlRZ5mSDG2UTkY/4wpBvvrqqxa/A8L1mR9NEv8QYtQIkY+TcePG2TbbbBOXtMLHWGbAPx5W1g7zTk3+TZs2LTEQgZ45C+wLBZcPriI6FSxAx4hLRKCtE+B5YfkLa2JbWlhje9RRRyUW65f1jR8/3iZOnNggH27dK664osHx5hygLcNzxsiWoMqPP/7Yxb7g1cPjlSSMfOM27GFlB4YWhqGKRrRNqBnvMi7lBc4YJdwlGJxSNo0gUs8b8mIqsS4tKYKXH25LC7uyXHnllS4q0JeNscRo8mAkbdjh8xb+5cHmnO+++06GthCOvrdJAuyihpHwMSDFIGBQcJEeeuihDUZ3cefhfSulXWEEGdeuEOGbhjC3yvLH6DVZ9uPblbhr+k5BYRreMoR2hSAs2tLQRIa2CTXiR2k8FPTEis1tvPvuu24UiMu1JYUHh7JbS4hyZME8LppzzjnHtt9+e+cG5vosAYrrgRLUECfLli0zDDeywQYbxGXRMRFocwTw7Lz00kvO9cmOcsUMBYGHeJdaej6XZ5t/rSF00IkqRnAF77PPPm51BoFMLAVM2v0pyQXuOwMMAIqxa417S7rGf6GiSTl0PEegb9++LjqOAyxfIZo2Tphzefjhh10SEcpZFUbIGFkEtzYuGt975N6J9IsTeqlxBpi1f34EzP6tEhEQAcsFOfJsxLlvPSO8ZD4gk32Psyp+9ysMLIaWAYyPFk7qpHOvbA/LiLVQfLAXg4FQRYa2CTXD+ljf22KHKPYrZuu0qOD+8VG8VPygQYOiyZn67LdPQ+lowBPHcYd7o0lwQ6GwyxXuYS+MZH3kIXPM0UApn0d/RaAtEsC746P9ibNgs4fCTjwdXrxLCHOuLT2ibU3uLP1Bom0K34m+9mvv49oU2ptrr73Wou0SHXq/A9URRxxBMUGKXMdNrBaCA9gCDaPBj3/AgAFuE32M6pIlS9wWaRSJG+Oqq65qsOg66XJvvfWW9evXLynZHX/wwQfd24GKZookNlbmfvvtZ2xSkSTcA3s582NmeQ6dBn7k3i1OOj9+5lrYpzUqhNuzLpcRPdGFsCIv5/hGJZpfn0WgLRMgGh/XKBH5vFiAf0w7sV6fqSqeJ4QNIM4999ySUWG4CXRKEt44VupLBXwZjZVJ+1hsvS+eQYTBCm0BAZy0nW+88UZu0wnaC16uUBhlzEtZcC+zRwEdedo4hGBS2rNQRYZ2BWqGHU4wQBgYluRgiKKuUn5kjHyT5iGjkXPRJTN+hJikUmEvNylfqWUW9ijjymNkSk+a++RHjvDws0YW1zI7spBGJLbfxAM2Rx55pMsT3cWF6GUMe1ZfdRXHR8dEoCUIMLfIc4YRYt9jXMTeiPjyaVPY8IVX23nxLle++z3X+Rw9Xqxd+fbbb8lekpRaZmPtFIMVOgsEdtF28A/Zd999XYedTgf3j6s8ami5d4S92f22sXTcCQyDTVQ/lzGg/9rVB6gsa219WKQ8dNh/myS09vVLud64sWNyrppi+RnhMVfJOxcxrMw9Rh+EYudmKY0HkrnXTTbZJPcqLvRnSQIPVlxkI2tt6anCiIjCaAcjS/cuXcMnQJsyfESydyaEOxg9amRJbQq6YhzZlY3OLM8Wz120Ax3C/TRXB1zIfg0x27J6Q0l7QpuKezwuuInzaFdIo72NdjCaq1Na52tE20yyGI9ir6FqZvHBnI6LiX+FUmx0SsPQFt/UUchI30WgqQQYqRVb1dDU8kLMz37NhTvKoScGt9gae84rlh7ivSoYKsRakU4iIAIiIAIVQ0CGtmKqUjciAiIgAiIQIgEZ2hBrRTqJgAiIgAhUDAEZ2oqpSt2ICIiACIhAiARkaEOsFekkAiIgAiJQMQRkaCumKnUjIiACIiACIRKQoQ2xVqSTCIiACIhAxRCQoa2YqtSNiIAIiIAIhEhAhjbEWpFOIiACIiACFUNAhrZiqlI3IgIiIAIiECKBshjaqqoOVle3NEQeTid0Q0eJCIhANgiwFSr7Aocq6Ka9vkOtnfT1Kouh5VVPc+vfeBOqoBs6SkRABLJBgL1v58yeHayy6Ja1/XmDhZlBxcpiaPv3r7ZpU2ts9qyZQY1sGcmiE7qho0QERCAbBKqrq+3lyZNsxvTpQY1sGcmiE7qho6RtEijLa/JAXVtba1Om1Nj8+fPrX6NWFwR93MWMZDGyHTt2DEInKSECIlAaAdoU3n88b94892rG0s5KNxfuYkayGFm1KemyDrn0shnakKFINxEQAREQARFoKQJlcR23lPIqRwREQAREQARCJyBDG3oNST8REAEREIFME5ChzXT1SXkREAEREIHQCcjQhl5D0k8EREAERCDTBGRoM119Ul4EREAERCB0AjK0odeQ9BMBERABEcg0ARnaTFeflBcBERABEQidgAxt6DUk/URABERABDJNQIY209Un5UVABERABEInIEMbeg1JPxEQAREQgUwTkKHNdPVJeREQAREQgdAJyNCGXkPSTwREQAREINMEZGgzXX1SXgREQAREIHQCMrSh15D0EwEREAERyDQBGdpMV5+UFwEREAERCJ2ADG3oNST9REAEREAEMk1AhjbT1SflRUAEREAEQicgQxt6DUk/ERABERCBTBOQoc109Ul5ERABERCB0AnI0IZeQ9JPBERABEQg0wT+D1PNxqujpICdAAAAAElFTkSuQmCC)"
      ],
      "metadata": {
        "id": "YZCVoYcIriev"
      }
    },
    {
      "cell_type": "code",
      "source": [
        "## Calculate the euclidean distance between CIELab values of Title page and Verso.\n",
        "\n",
        "## A result less than two is considered perceptually equivalent. \n",
        "## Since the title page is the most exposed page usually in book, this test is a \n",
        "## quick and dirty test to see if greater aging occured on the title page [recto] compared to the \n",
        "## verso of the same page.\n",
        "\n",
        "import math\n",
        "\n",
        "L1 = 94.96\n",
        "a1 = -0.68\n",
        "b1 = -1.97\n",
        "\n",
        "L2 = 98.10\n",
        "a2 = -0.71\n",
        "b2 = -0.83\n",
        "\n",
        "DeltaE = math.sqrt((L2-L1) ** 2 + (a2-a1) ** 2 + (b2-b1) ** 2)\n",
        "\n",
        "DeltaE"
      ],
      "metadata": {
        "id": "zaJESojUmfDG"
      },
      "execution_count": null,
      "outputs": []
    },
    {
      "cell_type": "code",
      "source": [
        "from bokeh.io import output_file, show, output_notebook\n",
        "from bokeh.models import ColumnDataSource\n",
        "from bokeh.plotting import figure\n",
        "from bokeh.transform import dodge\n",
        "\n",
        "output_file(\"dodged_bars.html\")\n",
        "\n",
        "fruits = ['Recto', 'Verso']\n",
        "years = ['L', 'a', 'b']\n",
        "\n",
        "data = {'fruits' : fruits,\n",
        "        'L'   : [94.96, 98.10],\n",
        "        'a'   : [-0.68, -0.71],\n",
        "        'b'   : [-1.97, -0.83]}\n",
        "\n",
        "source = ColumnDataSource(data=data)\n",
        "\n",
        "p = figure(x_range=fruits, y_range=(-10, 127), height=600, title=\"CIE LAB Tristimulus Values for Title page\",\n",
        "           toolbar_location=None, tools=\"\")\n",
        "\n",
        "p.vbar(x=dodge('fruits', -0.25, range=p.x_range), top='L', width=0.2, source=source,\n",
        "       color=\"#c9d9d3\", legend_label=\"L\")\n",
        "\n",
        "p.vbar(x=dodge('fruits',  0.0,  range=p.x_range), top='a', width=0.2, source=source,\n",
        "       color=\"#718dbf\", legend_label=\"a\")\n",
        "\n",
        "p.vbar(x=dodge('fruits',  0.25, range=p.x_range), top='b', width=0.2, source=source,\n",
        "       color=\"#e84d60\", legend_label=\"b\")\n",
        "\n",
        "p.x_range.range_padding = 0.1\n",
        "p.xgrid.grid_line_color = None\n",
        "p.legend.location = \"top_left\"\n",
        "p.legend.orientation = \"horizontal\"\n",
        "\n",
        "show(p)"
      ],
      "metadata": {
        "id": "nkcX2hlDvyqi"
      },
      "execution_count": null,
      "outputs": []
    }
  ]
}