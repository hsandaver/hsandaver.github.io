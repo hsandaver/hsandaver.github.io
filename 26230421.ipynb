{
  "nbformat": 4,
  "nbformat_minor": 0,
  "metadata": {
    "colab": {
      "name": "26230421.ipynb",
      "private_outputs": true,
      "provenance": [],
      "authorship_tag": "ABX9TyNJ4QeOh8vW24fk97IoGrHD",
      "include_colab_link": true
    },
    "kernelspec": {
      "name": "python3",
      "display_name": "Python 3"
    },
    "language_info": {
      "name": "python"
    }
  },
  "cells": [
    {
      "cell_type": "markdown",
      "metadata": {
        "id": "view-in-github",
        "colab_type": "text"
      },
      "source": [
        "<a href=\"https://colab.research.google.com/github/hsandaver/hsandaver.github.io/blob/main/26230421.ipynb\" target=\"_parent\"><img src=\"https://colab.research.google.com/assets/colab-badge.svg\" alt=\"Open In Colab\"/></a>"
      ]
    },
    {
      "cell_type": "markdown",
      "source": [
        "# Condition report with reflectance, abosorbance and CIELAB Tristimulus Values"
      ],
      "metadata": {
        "id": "PXDopMYs6gDv"
      }
    },
    {
      "cell_type": "markdown",
      "source": [
        "**OCLC No. 26230421**"
      ],
      "metadata": {
        "id": "jsIWybCO6lAb"
      }
    }
  ]
}