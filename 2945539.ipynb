{
  "nbformat": 4,
  "nbformat_minor": 0,
  "metadata": {
    "colab": {
      "name": "2945539.ipynb",
      "private_outputs": true,
      "provenance": [],
      "authorship_tag": "ABX9TyOSidQ2Ii9w/YFb1mfMxmjz",
      "include_colab_link": true
    },
    "kernelspec": {
      "name": "python3",
      "display_name": "Python 3"
    },
    "language_info": {
      "name": "python"
    }
  },
  "cells": [
    {
      "cell_type": "markdown",
      "metadata": {
        "id": "view-in-github",
        "colab_type": "text"
      },
      "source": [
        "<a href=\"https://colab.research.google.com/github/hsandaver/hsandaver.github.io/blob/main/2945539.ipynb\" target=\"_parent\"><img src=\"https://colab.research.google.com/assets/colab-badge.svg\" alt=\"Open In Colab\"/></a>"
      ]
    },
    {
      "cell_type": "markdown",
      "source": [
        "# Condition report with reflectance, abosorbance and CIELAB Tristimulus Values"
      ],
      "metadata": {
        "id": "RmiyGGaQOUji"
      }
    },
    {
      "cell_type": "markdown",
      "source": [
        "[OCLC No. 2945539](https://divinity.on.worldcat.org/oclc/2945539)"
      ],
      "metadata": {
        "id": "SbF7JIOaOX66"
      }
    },
    {
      "cell_type": "markdown",
      "source": [
        "Lee, Frederick George *The Church Under Queen Elizabeth : An Historical Sketch*. A new and revised edition with an introduction on \"The present position of the established church.\" London: W. H. Allen, 1892."
      ],
      "metadata": {
        "id": "NEWSk49yYrdn"
      }
    },
    {
      "cell_type": "markdown",
      "source": [
        "Binding has some staining and water damage. "
      ],
      "metadata": {
        "id": "DoIMJKWQbxYN"
      }
    },
    {
      "cell_type": "markdown",
      "source": [
        "# Reflectance and Absorbance Spectra"
      ],
      "metadata": {
        "id": "QThIsPi5dJW4"
      }
    },
    {
      "cell_type": "markdown",
      "source": [
        "**Reflectance spectra for binding**"
      ],
      "metadata": {
        "id": "F7osiEw5dOFP"
      }
    },
    {
      "cell_type": "code",
      "execution_count": null,
      "metadata": {
        "id": "6QM1iz9SOTBm"
      },
      "outputs": [],
      "source": [
        "import numpy as np\n",
        "from bokeh.plotting import figure, show\n",
        "from bokeh.io import output_notebook\n",
        "\n",
        "# Call once to configure Bokeh to display plots inline in the notebook.\n",
        "output_notebook()\n",
        "\n",
        "# prepare some data\n",
        "x1 = [460]\n",
        "x2 = [550]\n",
        "x3 = [640]\n",
        "y1 = [0.01]\n",
        "y2 = [0.02]\n",
        "y3 = [0.13]\n",
        "\n",
        "# create a new plot with a title and axis labels\n",
        "p = figure(title=\"Reflectance spectra for The church under Queen Elizabeth (Binding) 2022-06-017\", \n",
        "           x_axis_label=\"WAVELENGTH, nm\", y_axis_label=\"% REFLECTANCE\", width=800, height=600) \n",
        "\n",
        "# add multiple renderers\n",
        "p.diamond(x=x1, y=y1, size=15, color=\"Blue\", line_width=2)\n",
        "p.diamond(x=x2, y=y2, size=15, color=\"Green\", line_width=2)\n",
        "p.diamond(x=x3, y=y3, size=15, color=\"Red\", line_width=2)\n",
        "\n",
        "# show the results\n",
        "show(p)"
      ]
    },
    {
      "cell_type": "markdown",
      "source": [
        "**Absorbance spectra for binding**"
      ],
      "metadata": {
        "id": "PBRM4A22urUs"
      }
    },
    {
      "cell_type": "code",
      "source": [
        "import numpy as np\n",
        "from bokeh.plotting import figure, show\n",
        "from bokeh.io import output_notebook\n",
        "\n",
        "# Call once to configure Bokeh to display plots inline in the notebook.\n",
        "output_notebook()\n",
        "\n",
        "# prepare some data\n",
        "x1 = [460]\n",
        "x2 = [550]\n",
        "x3 = [640]\n",
        "y1 = [0.582]\n",
        "y2 = [0.536]\n",
        "y3 = [0.096]\n",
        "\n",
        "# create a new plot with a title and axis labels\n",
        "p = figure(title=\"Absorbance spectra for The church under Queen Elizabeth (Binding) 2022-06-017\", \n",
        "           x_axis_label=\"WAVELENGTH, nm\", y_axis_label=\"ABSORBANCE (% max)\", width=800, height=600)\n",
        "\n",
        "# add multiple renderers\n",
        "p.diamond(x=x1, y=y1, size=15, color=\"Blue\", line_width=2)\n",
        "p.diamond(x=x2, y=y2, size=15, color=\"Green\", line_width=2)\n",
        "p.diamond(x=x3, y=y3, size=15, color=\"Red\", line_width=2)\n",
        "\n",
        "# show the results\n",
        "show(p)"
      ],
      "metadata": {
        "id": "rXCxFD5ius-j"
      },
      "execution_count": null,
      "outputs": []
    },
    {
      "cell_type": "markdown",
      "source": [
        "# Delta E of Title page and verso"
      ],
      "metadata": {
        "id": "6icTRFz_Zdo5"
      }
    },
    {
      "cell_type": "markdown",
      "source": [
        "![Screen Shot 2022-06-20 at 10.12.11 am.png](data:image/png;base64,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)"
      ],
      "metadata": {
        "id": "YX0gVwzTc_HL"
      }
    },
    {
      "cell_type": "markdown",
      "source": [
        "![Screen Shot 2022-06-20 at 10.13.02 am.png](data:image/png;base64,iVBORw0KGgoAAAANSUhEUgAAAZwAAABACAYAAAAuysHZAAAK2GlDQ1BJQ0MgUHJvZmlsZQAASImVlwdUU2kWgO976SGhJVQpoTfpHaTXANK7qIQkQCgxJhTBrgyOYEVFBMuIjoooODoCMhbEgm0QLNgVZFBQ1sFRREVlH7CEmdmzu2dvzp/75eb+t/zn/efcB0AP4YhEWag8QLYwRxwZ4M2KT0hkkV4AAVSBAvagy+FKRF7h4SGAyZT+q3zoAmRc3zYfj/Xv//9XUeTxJVwAJAnjFJ6Em41xC7becEXiHADcMcyul58jGuc7GDPFWIEY949z2iR/GeeUCcbLT/hER/pgrA9ApnE44jQAmhVmZ+Vx07A4tHCMrYQ8gRDjFRi7c9M5PIyxvDAzO3vBOA9ibIz5iwDoTIydUv4UM+0v8VOk8TmcNClP9jUhZF+BRJTFKfg/j+Z/S3ZW7lQOQ2zR0sWBkZhWxs7vfuaCYCkLU0LDpljAm/Cf4PTcwJgp5kp8EqeYx/ENlu7NCg2Z4lSBP1saJ4cdPcV8iV/UFIsXREpzpYp9vKaYI57Om5sZI7Wn89nS+IXp0XFTnCeIDZ1iSWZU8LSPj9Quzo2U1s8XBnhP5/WX9p4t+VO/ArZ0b056dKC0d850/Xyh13RMSby0Nh7f12/aJ0bqL8rxluYSZYVL/flZAVK7JC9KujcHezin94ZLzzCDExQ+xeALfhCCfVgQA3ZgCzZgBREAOfxFOePN+CwQFYgFaek5LC/sxvFZbCHXYibLxsrGBmD8/k4+Eu+fTdxLJP/ptG1eHoBlF2asmrZlfQM4Owwg1zttM0sBULADOF/HzRXnTdrw418EoIIcMEENtEAPjMEcq80BXMETqzgIwiAaEmAecCEdskEM+bAEVkIxlMIm2AaVsAf2wSE4CsehEU7DebgM16ED7sIj6IY+eA1D8AFGEQQhIXSEgagh2ogBYobYIE6IO+KHhCCRSAKSjKQhQiQXWYKsRkqRMqQS2YvUID8hp5DzyFWkE3mA9CADyB/IZxSH0lAmqokaopaoE+qFBqPR6Fw0DV2IFqJF6Aa0Aq1Gj6AN6Hn0OnoX7UZfo8M4wMnglHE6OHOcE84HF4ZLxKXixLhluBJcOa4aV4drxrXhbuO6cYO4T3ginoFn4c3xrvhAfAyei1+IX4Zfh6/EH8I34C/ib+N78EP4bwQ6QYNgRnAhsAnxhDRCPqGYUE44QDhJuES4S+gjfCASicpEI6IjMZCYQMwgLiauI+4i1hNbiJ3EXuIwiURSI5mR3EhhJA4ph1RM2kE6QjpHukXqI30ky5C1yTZkf3IiWUheRS4nHyafJd8ivySPUuQpBhQXShiFRymgbKTspzRTblL6KKNUBaoR1Y0aTc2grqRWUOuol6iPqe9kZGR0ZZxlImQEMitkKmSOyVyR6ZH5RFOkmdJ8aEm0XNoG2kFaC+0B7R2dTjeke9IT6Tn0DfQa+gX6U/pHWYashSxblie7XLZKtkH2luwbOYqcgZyX3Dy5QrlyuRNyN+UG5SnyhvI+8hz5ZfJV8qfk78kPKzAUrBXCFLIV1ikcVriq0K9IUjRU9FPkKRYp7lO8oNjLwDH0GD4MLmM1Yz/jEqOPSWQaMdnMDGYp8yiznTmkpKhkpxSrtEipSumMUrcyTtlQma2cpbxR+bhyl/JnFU0VLxW+ylqVOpVbKiOqM1Q9VfmqJar1qndVP6ux1PzUMtU2qzWqPVHHq5uqR6jnq+9Wv6Q+OIM5w3UGd0bJjOMzHmqgGqYakRqLNfZp3NAY1tTSDNAUae7QvKA5qKWs5amVobVV66zWgDZD211boL1V+5z2K5YSy4uVxapgXWQN6WjoBOrk6uzVadcZ1TXSjdFdpVuv+0SPquekl6q3Va9Vb0hfW3+2/hL9Wv2HBhQDJ4N0g+0GbQYjhkaGcYZrDBsN+41UjdhGhUa1Ro+N6cYexguNq43vmBBNnEwyTXaZdJiipvam6aZVpjfNUDMHM4HZLrPOmYSZzjOFM6tn3jOnmXuZ55nXmvdYKFuEWKyyaLR4Y6lvmWi52bLN8puVvVWW1X6rR9aK1kHWq6ybrf+wMbXh2lTZ3LGl2/rbLrdtsn1rZ2bHt9ttd9+eYT/bfo19q/1XB0cHsUOdw4CjvmOy407He05Mp3CndU5XnAnO3s7LnU87f3JxcMlxOe7yu6u5a6brYdf+WUaz+LP2z+p103XjuO1163ZnuSe7/+De7aHjwfGo9njuqefJ8zzg+dLLxCvD64jXG28rb7H3Se8RHxefpT4tvjjfAN8S33Y/Rb8Yv0q/p/66/mn+tf5DAfYBiwNaAgmBwYGbA++xNdlcdg17KMgxaGnQxWBacFRwZfDzENMQcUjzbHR20Owtsx+HGoQKQxvDIIwdtiXsSbhR+MLwXyKIEeERVREvIq0jl0S2RTGi5kcdjvoQ7R29MfpRjHFMbkxrrFxsUmxN7Eicb1xZXHe8ZfzS+OsJ6gmChKZEUmJs4oHE4Tl+c7bN6UuyTypO6pprNHfR3Kvz1OdlzTszX24+Z/6JZEJyXPLh5C+cME41ZziFnbIzZYjrw93Ofc3z5G3lDfDd+GX8l6luqWWp/WluaVvSBtI90svTBwU+gkrB24zAjD0ZI5lhmQczx7LisuqzydnJ2aeEisJM4cUFWgsWLegUmYmKRd0LXRZuWzgkDhYfkCCSuZKmHCY2KN3INc79Lrcnzz2vKu9jfmz+iUUKi4SLbhSYFqwteFnoX/jjYvxi7uLWJTpLVi7pWeq1dO8yZFnKstblesuLlvetCFhxaCV1ZebKX1dZrSpb9X513OrmIs2iFUW93wV8V1ssWywuvrfGdc2e7/HfC75vX2u7dsfabyW8kmulVqXlpV/WcdddW2+9vmL92IbUDe0bHTbu3kTcJNzUtdlj86EyhbLCst4ts7c0bGVtLdn6ftv8bVfL7cr3bKduz93eXRFS0bRDf8emHV8q0yvvVnlX1e/U2Ll258gu3q5buz131+3R3FO65/MPgh/u7w3Y21BtWF2+j7gvb9+L/bH72350+rHmgPqB0gNfDwoPdh+KPHSxxrGm5rDG4Y21aG1u7cCRpCMdR32PNtWZ1+2tV64vPQbHco+9+in5p67jwcdbTzidqPvZ4OedJxknSxqQhoKGocb0xu6mhKbOU0GnWptdm0/+YvHLwdM6p6vOKJ3ZeJZ6tujs2LnCc8MtopbB82nne1vntz66EH/hzsWIi+2Xgi9duex/+UKbV9u5K25XTl91uXrqmtO1xusO1xtu2N84+av9ryfbHdobbjrebOpw7mjunNV59pbHrfO3fW9fvsO+c/1u6N3Orpiu+/eS7nXf593vf5D14O3DvIejj1Y8JjwueSL/pPypxtPqZybP6rsdus/0+PbceB71/FEvt/f1b5LfvvQVvaC/KH+p/bKm36b/9ID/QMerOa/6Xotejw4W/0PhHzvfGL/5+XfP328MxQ/1vRW/Hftj3Tu1dwff271vHQ4ffvoh+8PoSMlHtY+HPjl9avsc9/nlaP4X0peKryZfm78Ff3s8lj02JuKIOROjAA5baGoqwB8Hsfk4AYDRAUCdMzlfTwgy+U4wQfCfeHIGnxAHgP0rAMZHr1BM724BMPIEkMVWAPY7qAVQW1vp+pdIUm1tJmOpXwKQKRgb61fB9rwD+NowNjZye2xstAaARAZY/2xyrh8X+SPYm0yHvbVjyOP+ePi7TM78f+rx7xqkFfxF/xPMsBzIQkz33QAAAFZlWElmTU0AKgAAAAgAAYdpAAQAAAABAAAAGgAAAAAAA5KGAAcAAAASAAAARKACAAQAAAABAAABnKADAAQAAAABAAAAQAAAAABBU0NJSQAAAFNjcmVlbnNob3T2X8E0AAAB1WlUWHRYTUw6Y29tLmFkb2JlLnhtcAAAAAAAPHg6eG1wbWV0YSB4bWxuczp4PSJhZG9iZTpuczptZXRhLyIgeDp4bXB0az0iWE1QIENvcmUgNi4wLjAiPgogICA8cmRmOlJERiB4bWxuczpyZGY9Imh0dHA6Ly93d3cudzMub3JnLzE5OTkvMDIvMjItcmRmLXN5bnRheC1ucyMiPgogICAgICA8cmRmOkRlc2NyaXB0aW9uIHJkZjphYm91dD0iIgogICAgICAgICAgICB4bWxuczpleGlmPSJodHRwOi8vbnMuYWRvYmUuY29tL2V4aWYvMS4wLyI+CiAgICAgICAgIDxleGlmOlBpeGVsWURpbWVuc2lvbj42NDwvZXhpZjpQaXhlbFlEaW1lbnNpb24+CiAgICAgICAgIDxleGlmOlBpeGVsWERpbWVuc2lvbj40MTI8L2V4aWY6UGl4ZWxYRGltZW5zaW9uPgogICAgICAgICA8ZXhpZjpVc2VyQ29tbWVudD5TY3JlZW5zaG90PC9leGlmOlVzZXJDb21tZW50PgogICAgICA8L3JkZjpEZXNjcmlwdGlvbj4KICAgPC9yZGY6UkRGPgo8L3g6eG1wbWV0YT4KTdmkQAAAHYhJREFUeAHtnQf8V+MXx09DiqSIiEiEFKlEihDZsrfsvTfJKHvvFZGVPYuMpBSlkJW0qKySBqW0+3/fR+fn+d3ud9zv7/v98c85v9fve9dzn/G5zz3ree55KkyfPn2JODkCjoAj4Ag4AkVGoGKR8/fsHQFHwBFwBBwBRcAFjncER8ARcAQcgXJBwAVOucDshTgCjoAj4Ai4wPE+4Ag4Ao6AI1AuCLjAKReYvRBHwBFwBBwBFzjeBxwBR8ARcATKBQEXOOUCsxfiCDgCjoAj4ALH+4Aj4Ag4Ao5AuSDgAqdcYPZCHAFHwBFwBFzgeB9wBBwBR8ARKBcEXOCUC8xeiCPgCDgCjoALHO8DjoAj4Ag4AuWCgAuccoHZC3EEHAFHwBFwgeN9wBFwBBwBR6BcEHCBUy4weyGOgCPgCDgCLnC8DzgCjoAj4AiUCwKV8y3l119/le+++05vX3/99WWttdbKOav58+fL1KlTpXLlyrLmmmvmfF+6hLNmzRL+V155ZVl11VXTJct4nvpQr9VXX11WXHHFjGnzuTh37lxJLXa3zK0rrbSS1KxZc5nzxTpRCKyKVTfP1xFwBJZvBBILnGnTpsktt9win376aSlk2rVrJ+ecc47AQLPRqFGj5IILLpC1115bnnjiiWzJs17v3bu39OjRQ/bee2+tQ7Ybfv75Z+nTp48Kp4MPPliT33TTTfL555/LZZddJjvttFO2LBJfHzZsmFxzzTWx9zVo0EA6deok9evXj71eyJNRrIYPHy78N2rUSNq0aVPIojwvR8ARcARKIZDIpYaGfuqpp6qwWXfddWX//feXfffdV6pVqybvvfeeXH311aUyT3dQoUKFdJfK5fzkyZPlueeeU6FjBbZv3146duwoWGvFpoMOOkj432OPPdS6wVLs2rWrLFlS/qt9f/XVV4oFwtbJEXAEHIFiIpDIwnnooYfkt99+U6Z8//33S5UqVbRuBxxwgBxzzDEqiMaPHy8bbLCBvPvuu/Lyyy/Ljz/+qGk22WQTOemkk2TjjTeObQ+MD2tn9OjRUr16dWnbtq0KANxkWFQ//fST3t+4cWNZtGiRWkhkdNVVVy2T38KFC6Vnz57Sr18/mTRpkgrEbbfdVk4//XTV5rGGIOp27rnnyimnnCJjxoyRcePGSZMmTfTavHnztD6DBw8WrLqNNtpIjjrqKGnevLletzrRdtr59ddfS8OGDTW/dG3UG1M/lGdEHW+88Uaty59//qkW4uzZs9ViwyriXIsWLeTkk0+W1VZbTW9744035MUXX9R7cMdtvfXWqgisssoqibB6+OGH5Z133tE8BwwYIGPHjhUsPZ7Bo48+WuIy3WyzzRT7DTfc0KrtW0fAEXAEEiOQSOCMHDlSC9h9991LhA0n6tatK2+99ZZeq1SpksAoYVwQ7iksCjTozp07ywsvvKDnwx+Y9fnnn6+ncLMhJF566SUVMrihEGIwwz/++KPkNu6BEC5Revzxx+XZZ59VQYMV8cknn6gFxphRs2bNhDpGaeLEiSo0fv/9d73UpUsXvY8DrDkE4iWXXCLXX3+9tGzZsqROVg/SUccbbrhBhQXH2QihZphSBu5IhOlFF12keSFMSINQIl337t1VGNx5552a9Z577ilffvmlCg3GiK644oqSeuWCFWVFiXxwd0K4SRG2uE8p/5VXXonFLpqHHzsCjoAjEIdAzgIHxo4ggOImCIRMfMqUKbLVVlupNcAYCWMmWEBYRwxaR+mpp57SUwceeKBq6hMmTFCN+qOPPtJ7oumzHcNsKR+3FdYBWjwWCRYMzBxLAeEBkzfmHeaJcEFI4Sp85JFHZI011lCL6bHHHlNhgsAx2mabbeTyyy+Xjz/+WF2KWE1z5szJOJZl40bgAVHOaaedpvuDBg1SYbP55pvLzTffrG42xsYQZgMHDiwRurj+jj32WJ3ogHCtWrWq3p/kB/coZYP/jjvuKGeccYZiZHkceuihas1iCSH4EMZmZVka3zoCjoAjkCsCOQscrAOYEy4eGGqUfvjhB1m8eLEyJAbvcSsxGA2jx+LJRGYl7LbbbpqMwXPcVOSHmygpnXXWWSoARowYoeM0MOokZLPvWrVqpcKGe3fddVdB4MD4Q6uKNDD7LbfcsqQIXGKZJk/AvEMCU2bIQeQPYRUykQBiRiAEToYRFtkhhxyibrzWrVvrhAlNVMYfrFUsK4Qhrj8sTlx2++yzjwubMmLrtzsC/3UEEk0aYDYVFBUgMMfjjz9eTjzxRGWYvXr1Um0Z6wBrZ4cddkiLM24dGC6EQDOCiXMcTjAwRh8n8Ow+ttddd51aHbjluGf77bcPL2fdx60EhdOjbbyK8wsWLGCjhPUDZRIwmiD4AR/+GYfBEoOefPJJ3VrbKAMhzz/jR6Rjyvamm24q9913n3To0EEFAwIKF+LZZ5+t7jjNJPWTK1aW3ra044EHHtDxM543Vu1rr72mwgelwskRcAQcgXwRSCRwTLt+//33pX///urumTlzZgmzpBJMDrDxHNxXWDgMrKcjXHG4tiAsEgi3G+MTe+21l5C/Mfvvv/9er5sVoAeRH6wLs2gefPBBnf3FhIE4iloalsbq88UXX5QwcbPC0P5DwWj35LPlmyGsQcisqnr16ukxW8aD+D/66KPVykDo0DZmBDI29vzzz5fMDEQw/PLLL4mw0oKW/hgWuB0RhLhNu3XrpladtZfp7E6OgCPgCOSLQM4uNQrArcR3HDB8Bs/vuOOOEuuE61g4zCozAYElBLNiVpWRad52zJaxFsZS7r77bs3bpuhyHqa83nrrqTuJmVMwRMZL0hEWgRFCsU6dOiWD+Oa2MgaKq4rxF8ZCQoKx2+SFSy+9VIUoFgl02GGHhUnLvE/9jLD0ECS47hhH4psgXFxYGBAClPEpLDdmz4G3CWGu8xFtEqy4x8Z+3nzzTc37yCOP1Py5Bl6hlWfCkGtOjoAj4AgkRSCRhYM1gpDh+xuYdugKY9AbAQExQYDrWEJ8mxMyLRuPCCvKTDKYJ/kxdoO2jubPGAXEILu5rtDwd9lll7RWBmUx/RqCcTNbzqY6M6CPCw9Xkbmyhg4dukwEAPLALccUbIQf3+xQN9q13377ad6F+llnnXVKssLKqVWrllo1WFkIVoQN9UX4MC0ZK5Nvn8CIGXy407C6qC/CNglWFIy7EeEKMWGBfWYM8vzuuusunbhA20844QR152lC/3EEHAFHIA8EKqQ+5szra0MG9HHhMMaCZl2xYmnZxRgEwgULBasnFyJP7qldu/Yy02+5xlhRrvkxFsLAN3mZxRWtA3VEACFgwrGiMB354NaLa2OYrhj7lMvHoLQ5SrjAmLJM25g5FuKfFCvyNpeaKQfgQv7kxdjRCiusEK2CHzsCjoAjkAiBvAVOolI8sSPgCDgCjsB/HoHSZsl/Hg4HwBFwBBwBR6BYCLjAKRaynq8j4Ag4Ao5AKQRc4JSCww8cAUfAEXAEioWAC5xiIev5OgKOgCPgCJRCwAVOKTj8wBFwBBwBR6BYCLjAKRaynq8j4Ag4Ao5AKQRc4JSCww8cAUfAEXAEioVA3gLn1z+my58L/gpyma1yM+fOkmmzZ8QmWyJLhLxmzft7rZvYhBlOJqlLhmxKXSKeG8sqJCVC98SF77F8CAzKx5SFIPKxQKO55MfHnbTJAoTmck9cGj5GtSgTcdej5/iI1MIKRa/ZsX3kasfRLfdT9/CfwLDZ8g3zoR5xy2OEacJ98CorVmF++e7T5nB9o1zzyfSM6Dv2sW+u+RGnMF3fJi/wzZX4wJsPuctKScul/pmwJL9suPBBdNgP2bd1tLK1J+m7Y/nRb9Phm+3dsTz+Ddu/A4/lWJvXvnpbnvr0ZZk9/68Iz1uvt6Vc1v4sqVJp2S/Rx/46Xq7te3dKoEzT3ElzcuujZM9GO+lx39ED5YHBT8ncpYJrtZVqymW7nCmbrVV6VdDbBjwk/cZ8IFfueq60qt+8pKZJ6lJyU447BCBlhdO+ffvmdAed7p577ilZtI3QOeedd55GKCADAoESL85WQCUu3Zlnnpk2RA9BO1neISSWXWAlVF4I4qq9/vrreplwNKxlw9o8mYjF7wiFQ2gcyk5KMCnWziG4J8yMkDqsokr8tzjixSQ+HnHfIEIFEdXaoo7bPQRGZeVVwviki7pN2B/aH0cso2BhleKu2znW9enTp49G6rZz6bYwJhaiI9YdC9tBtJ9VX8No4ZwnejeRKIpFhFQi9BPrE2UjGNqrr76q8QN5RoQoYrVYCxKLAAUH6zuEUCKUEesvZSLyOvzwwzX2IMtVGPFcbr/9dl0YkHNt2rTRfh8XHcPuoQ5HHHGEHj7zzDMaDcSu5brNp1zyJg4hIZzuvffe2KK6dOmi0dkJ5ZSObrvttth4jvTra6+9tiQMV3h/0ncnvJf3h5WN4UesphxSLu9OmP6f3k8kcF5NCZuHhvSUGlWryz6N28uQCZ/KsO8/l3sH9ZDzdzy5VFuwfi7qda3MX7RAdtqotdRcqYa8+c0ATVun+upSbYWqcsf73VVQdWiyqwqdd1IC6JLXb5CnjrwrFWqmooyaMk6G//iVChsyX7D472UBktSlVMWKcIDmxyJpMFRC+8OQYOzEP2MpbkLsXHjhhfrCsoomwokOxFo/LIIWRwgbFqSzOHCkIZAnRBBTVuEkThx5EH+OIKQsxEYYmjhCO4KhI5zYwsAscGdc+rhz3McyCrSLjs+LQBBXmC1tD4nySEf9EMSE3nn66adVsCD4CKFDcFXW9aH+uRIMgYjkMFYYFwoBUa1ZyTXTEtjEpYPZwIBzIVvuPAyuyjLnaOYwlTBcUybmmktZhUyDsKHPWew9GBICgXbvvPPO2mcI+EoUd+r99ttvq8Ah7mAY18/qRAR3/lkyPmoxccxChixBTr/neaBgsGQ6ClM6Ih6iPQfyTRoQN2m5KGgswoiQQtDSf0LifSSmIu8UCy+yHEg2QkCDMYRygrXGgokoH/TRKCV5d8J7p06dqniG59jP592J5vFPHOfsUluwaKE8MvRZreNN+3SWE1sdLrfte4Vc3O402a7B3xqPNWJqyoWGsFm5SjW5qN2pclKrI6Tt0nTfTftexk2dqEm3qtdUTk1ZPefucKLUXnk1WbR4kXDvyMljpMtbt0uvEctaGEnrYnUq5BbGi3ZPZx49erQKFYQHnbVRo0YqSGCmRNb+9ttvdQkG1gxicTkWTGPhNhhYHKXi22l+rCPUsGFDFToIHlttk/KI6ty8eXO9TjBVCIsiHSHAEHwEU4U++OCDUknD9pS6EBwQ9ZuF2LBoaAdaKlodTCNKuLt4wdGuWcOHBfnQ0GEWtq4OQql69erKCKP3pzvGqiI+HsFcWfXUgrCaay2uHTNmzFBmgKWQCxGwdcCAAbpERph+QmolWsrHkgyfi8WfC9Om22eZbouGni5NkvMIQPqhRTMnYC7BcHlGRA5nn36EYMb9ipJA32HBQJQGW/XVlvSIlg0zJSgsAXOj9Nlnn2mfwvKk32+xxRYa5BWmTb3SEUyfemFpU2+0f6Noe+x8uM2nXN5TBGrTpk3DrEr26YtgwvPNhXjm9EP+WcqDe1G8KAeKtiPJu2PlgwtKZZxAzufdsXz/yW3lXAufPGuKCoNKFSvJo0Ofk49Tlg3UZoOWKevmpGWyqVdzbcFFNn3Ob3Lzew9I3Rp1pN/YDzXdNus3kxVS7rWHP3paBk/4RAXZ7HlzUoJmugqoBrXXSwmfWtIp5V6DsITM7cZx0rpwT6EJrcjW5bElEUJXi+3T8Vi+mTV50MqJ8ox7jeWzzVUTrRuMDUJL/Oabb1QbpNPxj6Vgy2JjWeGiw0UC882kmeEiRNAhKGBAvPQhEwnbo4XH/CBAWacoJJYsIIhrlBCOaHuhC4C2QGY1WPkwYHPxRPOJHoMfVhMv4/jx4wUGjtWGAICi7SAd2jzWIm3PRvjDibyNlopQDv39CFAIQctzpVyipKdbbymuLOp+5ZVXal1wz7FcebrAsXH3R88hROiHKDAQfdGYnqWlL4KLLQNvfZPrMC6UANoTRzBS/hHoLKgYkt0D0zUCEwjlxyK82zW2PDMUJlyo1BWr/Msvv9QyuB5tD+eilLRchIO5XGkr1kxIeA7selQRC9OF+4yp2NIg7NOHsSax+KBoO5K8O1YOngAwYl2wHj162Gnd5vPulMrgHzrIWeDYOAwWCMJm/VrryMQZP8mH4z9WtxhWTJQObrqXdEu54AaMG1JyafsG20i9mnVl0ZLF0jJl3Xw0cbi89EWfkutYThVSf6tWqyHbL7WIugXjPCRMWhfMXfzU6QgXVVL30sUXXywsMIcAMEaGds15mBxjHVA4mMjLbVo2lgFuoDgyxoavnLV60ErpcCxdgGZoBLPFdQdZXexauEXDR4M164bxo86dO6ulYWvchO0J743uRyNv4xrBcooSLzlWjRFrI+F2YaVSmG6+hMYXJdpuQj/aDjRohAjLNmRaR4k8UQhwP4EPLsIo84Gxw8xxR/IsWAAP4YHAtz4QrVv0GEax3XbbCesPIQgRzCywh9AKI35H70t3zPPDLWb3Ygn37NlTFz3EdcS6SvQfiIjfWN/Um/LQ5hmPg+KeoV7I8IPgMteYJTNrzyxOO29bXFv0fVOOqCNYINSgaHvsvnCbT7nh/YXYR2hGx3loFwoEFNeOXN8d7id/niNC3p4t5//fKWeBg0VidHn7s6X1BltJn2/665jMwO+GqtvMrrMdMWmUChv2OzRpL/Vr1UtZMs/IoFTa2tVryYqVV1Rhw0SCw5vvm5qrJvLExy/KXQMfVddai3pbcGssJa0LzIExlHQU7Qjp0oXn0UpNM61Ro4aO4bB+DJYLZH7i0NcPU7T1fvD3UifGH6KErx1rxMZscJ3hfoOxhAKH9YKwOHiJYV4w8jhtG38vhGsPTQs3CUR+ME8obA/CgQFKI5gpY0QQwjQk8jIcwvO2D+NBKMLkYLZYBGUhNEhjVuQ9ZMgQbTvMFDdS2A7ai5WFQmHafaaymVAAPp06dYpNxsQMFBP6EwRzx+pEmEcFDkIeQRgS4xtMiiAP3KA8O1xd1LF79+7ah4zxhvdl2w8ZEvkiKJkUgoWBNYAbCQsHAn8wRACb+wjrGNdmUop77tY/wjpZvjwvXEswZiwbiHePFWxxC9pYWHgvz8IsGtIz6SRpudxXaEJwmxKLooILGcUD9yLjf1DYDo4NG/ahdO8OY2FY2eTFM0wys/KvnP+9vzkLnFrV/l6Tpdm6TbRFzZdusXqYJMBEAKMPUpYPtNlaDVNjNB11v0rlFeTW/t1k0LfDUgKnip47tFkH4R/6YcbP0n/c4JRQGiaZBE7SuqB1wbSLScwCYiCRZZhhSDBFxizYHzNmjJrY+LgRCvyzSBxMnEHB0CVBHbnHmJrVGebGQnB0RnzkMBFeUDRkY3po8FGBw8vAKq1oov369bPs9BjtHwvKrAO7SCcPZ55ZXWBQUU0YxorAjSMsC1ZMxe3HAGuYZ1z6XM7hsgmZO1YU7f7www+XyR+XBO1mQByCceFSYeE6xjFgfCEh/Jl0gTIAYdFYehifuYvsHoQH5ceNxcFIo+2NCj36Je5WMIRJMTifj8Cx+rClTyDAcPEwFkg/QZDi4oFglOCBG4u+0aJFC31GJnw0UY4/KFPgg9Vnlo31j7jZhihjpMfqR9kJiTEzxnSihKswdGvSF5OWG82zEMfUIeyHuI4RMPTzCSmXeHiN8pK8O4zD4ToGL/7NWqR/sgBjtF8Voj3llUfOAmedmmtJ1ZRAYSzlsx9HqIUzYtJorSdWCsLmzZTFg6XStG6jkvovCjTi3/+cqedDDQVhZfT73GWv27Vwm0tdwvQwGqa4piO0+aQutTAvXjhecnytdAgIBggxcwqrhtlDzJKyhcx42SHb6sHSHwQRzA2N2gimzTnSwzAZ7GVcwgh3XVxeI0eOVIaPdg2zMUIwokHhz2Yqa0i8POHYi13jJcJFY0S7yT+sh11jy2wlGAwWRlSohunKsk+78aXH5Y+SYVozZVBfiLT2HPTE0h9Wc7U0nLIp7KTnpT/ggAPUKmVqOkTZWERmzerJpT8wJIRaOoLpMnMJlxbKBFNtUUjKSlhbLMPOBBUjmJa5enD1MshtYwAIOwRrx45/KYV2Ty5bplRDKFQ2rdrG6SgjSgg+JnlEZ7DBpFGK4gRO3DlzU+dabrQexTpGSED0iygleXdIS18zsj5JX44T5Jbu/2Gbs8BhXKVDair085/31m9rsFxGTh6rbdyr8c66vSc1PRo6p+3x0rr+VjrDbPSUb+WS3tfL2jXWFKY9Q2033EYqV6wsz33WS54e/qpMmjlFP/wcnhJkkI3d6EHMTy51CW9DA8/03Ukc87H7mRETCkjOY73gGkCL7Nq1q2p3WB5M/2V6NIwfbQTtDM0Gxsf3BkxX5QWCCXMdVwbWBAOst956q2oujB8wzZQxG15i/pmuyUww3A4wMs4hvLBuYFZoi4z72PgQlpDVjWuUwUyxkGCSnKcdCJzwnnQuRjQrlhhn7AjNmC1twf0HhXnArLE8wAOt1zRf0tHuTJiTJooJ5yB82zbozaQJXFLUgYkQUFgHsAwJxotmH7r1mNaN1sy5kElzH88IV4mlBzO+fwI3ZiRhQdEuKzssK90+7UIBwcXIFHnwzDSd2/JBqPJMQ4L5YJGFfYeZaSgknGc2Hf0GoWjuPfojygdtRoGhjViB5gEI8UvXD6wO9CnyIw9cXbh+sNToD9QtfIYIU/qxDapbHmxxIaOcoASBbdieMJ3tJyk32gcsjyTbOEywHu158L4j/FAeEML077Dt1CHbuwM23H/cccepYhgqh+DKe4onI04RTNKWfzptzgKHih6z9UHyx/zZ8vao90uETbuGbeSYlgeXagff0GyRsnKY6vxgasD/q9R4Dv/Q3o13keO3/usDtjmpj0d7f91X3Whcw4I6ZdvUdN91M3+ERtpc60JazP3wYzXOZSMTMgxCR4mBa8xmXFtmVTDwCzNCKEC4Ruxe9hF4DADabCzO8WEoZG4y62SMzWCVwTiMmNHEgDtEvryUMEsIhgFTNMZvdYMRMyCLILL26A2pH4533313/a6Gsuwea4+lC7dYb4yLIDiNYDQ2QyzMA60ZYlwrSjClqHsqmsYwMUFp9WfiQUi84GCLawoK66AnsvygUMR9f2K3WbkcgzvuNtoMwWyZaRhOjtALGX6w9nhejGvZGF2G5CWXGKfjPyQmNmC50w+t76AdIzhhknzcSFkIG7PC2rdvrzMfUZToHzwHJkqYSywdfoaDbakHrlgmomCxmDVOnUy5C58hfQyyPqoHS39shh3tYwwqbE+YzvZzLdcwsfvYhvUPz9s+brFomigmpEHBMyHOveDMJCA8D9TP2m51yPbugA/t5t1PR9F6pUv3bz6f1xLTMKWfZ/4ia6Q+4MSdlokIXUNYm3kL50udVdZIWTaVSiVfmHKpTZk1VadJM5kA6yUJJalLknzzTYv5y+AgHTBKnMeFgfYXdz2aHk0e9wGWTHQAkrQwDDo22mp4nXNMSAgFQzTvshxTL7QuGG5YblnyjLsXqxDXzL/NZw2+uNhof1KiDxQTs7A+9B2s+zhGxYA1/acsMwbDsrD0sFqxwEMq9jNMV25Yh7LuF/J9Kq93p6xtLtb9eQmcYlXG8y0MAlhSuNqyhbopTGnFyQVXFm4WrLwoEytOiZ5roRFYXp7h8vA+FfrZ5pufC5x8kfsX31eeWnSxYMByjdPMi1We51t4BJaXZ7g8vE+Ff7r55Vgxv9v8rn8zAuXlsikmBi5siolu+eS9vDzD5eF9Kp8nnr0UFzjZMfIUjoAj4Ag4AgVAwAVOAUD0LBwBR8ARcASyI+ACJztGnsIRcAQcAUegAAi4wCkAiJ6FI+AIOAKOQHYEXOBkx8hTOAKOgCPgCBQAARc4BQDRs3AEHAFHwBHIjoALnOwYeQpHwBFwBByBAiDgAqcAIHoWjoAj4Ag4AtkRcIGTHSNP4Qg4Ao6AI1AABFzgFABEz8IRcAQcAUcgOwIucLJj5CkcAUfAEXAECoCAC5wCgOhZOAKOgCPgCGRH4H/vlKJ8TDSZbwAAAABJRU5ErkJggg==)"
      ],
      "metadata": {
        "id": "3uwEYKqcdOuG"
      }
    },
    {
      "cell_type": "code",
      "source": [
        "from bokeh.io import output_file, show, output_notebook\n",
        "from bokeh.models import ColumnDataSource\n",
        "from bokeh.plotting import figure\n",
        "from bokeh.transform import dodge\n",
        "\n",
        "output_file(\"dodged_bars.html\")\n",
        "\n",
        "fruits = ['Recto', 'Verso']\n",
        "years = ['L', 'a', 'b']\n",
        "\n",
        "data = {'fruits' : fruits,\n",
        "        'L'   : [93.53, 99.10],\n",
        "        'a'   : [-0.21, -0.11],\n",
        "        'b'   : [4.45, 0.41]}\n",
        "\n",
        "source = ColumnDataSource(data=data)\n",
        "\n",
        "p = figure(x_range=fruits, y_range=(-10, 127), height=600, title=\"CIE LAB Tristimulus Values for Title page\",\n",
        "           toolbar_location=None, tools=\"\")\n",
        "\n",
        "p.vbar(x=dodge('fruits', -0.25, range=p.x_range), top='L', width=0.2, source=source,\n",
        "       color=\"#c9d9d3\", legend_label=\"L\")\n",
        "\n",
        "p.vbar(x=dodge('fruits',  0.0,  range=p.x_range), top='a', width=0.2, source=source,\n",
        "       color=\"#718dbf\", legend_label=\"a\")\n",
        "\n",
        "p.vbar(x=dodge('fruits',  0.25, range=p.x_range), top='b', width=0.2, source=source,\n",
        "       color=\"#e84d60\", legend_label=\"b\")\n",
        "\n",
        "p.x_range.range_padding = 0.1\n",
        "p.xgrid.grid_line_color = None\n",
        "p.legend.location = \"top_left\"\n",
        "p.legend.orientation = \"horizontal\"\n",
        "\n",
        "show(p)"
      ],
      "metadata": {
        "id": "L19CpQT8dVe3"
      },
      "execution_count": null,
      "outputs": []
    }
  ]
}